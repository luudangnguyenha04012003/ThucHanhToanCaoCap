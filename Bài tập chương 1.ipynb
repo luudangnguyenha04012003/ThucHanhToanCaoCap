{
  "nbformat": 4,
  "nbformat_minor": 0,
  "metadata": {
    "colab": {
      "name": "Bài1.ipynb",
      "provenance": [],
      "authorship_tag": "ABX9TyPgUveBdDQhAjJPoHAwa09k",
      "include_colab_link": true
    },
    "kernelspec": {
      "name": "python3",
      "display_name": "Python 3"
    },
    "language_info": {
      "name": "python"
    }
  },
  "cells": [
    {
      "cell_type": "markdown",
      "metadata": {
        "id": "view-in-github",
        "colab_type": "text"
      },
      "source": [
        "<a href=\"https://colab.research.google.com/github/luudangnguyenha04012003/ThucHanhToanCaoCap/blob/main/B%C3%A0i%20t%E1%BA%ADp%20ch%C6%B0%C6%A1ng%201.ipynb\" target=\"_parent\"><img src=\"https://colab.research.google.com/assets/colab-badge.svg\" alt=\"Open In Colab\"/></a>"
      ]
    },
    {
      "cell_type": "markdown",
      "source": [
        "Thực hành 1"
      ],
      "metadata": {
        "id": "F28PgpgwGjYc"
      }
    },
    {
      "cell_type": "code",
      "source": [
        "n = 1000\n",
        "X = [2*k/n for k in range(0,n+1)]"
      ],
      "metadata": {
        "id": "4Q1f-zJHGljH"
      },
      "execution_count": 17,
      "outputs": []
    },
    {
      "cell_type": "code",
      "source": [
        "S = 0\n",
        "for k in range(1,n+1):\n",
        "  S = S + X[k]**2 * (X[k] - X[k-1])\n",
        "print (S)"
      ],
      "metadata": {
        "colab": {
          "base_uri": "https://localhost:8080/"
        },
        "id": "tzA5hhBIHN8e",
        "outputId": "6da89155-fc82-45cc-d71d-3e552aa19e27"
      },
      "execution_count": 18,
      "outputs": [
        {
          "output_type": "stream",
          "name": "stdout",
          "text": [
            "2.6706680000000027\n"
          ]
        }
      ]
    },
    {
      "cell_type": "markdown",
      "source": [
        "Thực hành 2"
      ],
      "metadata": {
        "id": "NZJGkAM9TNIa"
      }
    },
    {
      "cell_type": "code",
      "source": [
        "from sympy import *\n",
        "a = Rational(1,2)\n",
        "a"
      ],
      "metadata": {
        "colab": {
          "base_uri": "https://localhost:8080/",
          "height": 51
        },
        "id": "3D1b98DFTMBb",
        "outputId": "b1b49c93-f2a2-4518-b0b4-ab5a2b53c0a1"
      },
      "execution_count": 8,
      "outputs": [
        {
          "output_type": "execute_result",
          "data": {
            "text/latex": "$\\displaystyle \\frac{1}{2}$",
            "text/plain": [
              "1/2"
            ]
          },
          "metadata": {},
          "execution_count": 8
        }
      ]
    },
    {
      "cell_type": "code",
      "source": [
        "a*2"
      ],
      "metadata": {
        "colab": {
          "base_uri": "https://localhost:8080/",
          "height": 37
        },
        "id": "Vep1brQ6Tyw5",
        "outputId": "a9c3f9ea-c6d6-4471-9dc5-4cdc92c3ef42"
      },
      "execution_count": 9,
      "outputs": [
        {
          "output_type": "execute_result",
          "data": {
            "text/latex": "$\\displaystyle 1$",
            "text/plain": [
              "1"
            ]
          },
          "metadata": {},
          "execution_count": 9
        }
      ]
    },
    {
      "cell_type": "code",
      "source": [
        "oo>99999"
      ],
      "metadata": {
        "colab": {
          "base_uri": "https://localhost:8080/",
          "height": 37
        },
        "id": "KqXIJD2_UO_j",
        "outputId": "0fc2ffa1-e8f5-4677-a60c-86bcf9d9e38b"
      },
      "execution_count": 11,
      "outputs": [
        {
          "output_type": "execute_result",
          "data": {
            "text/latex": "$\\displaystyle \\text{True}$",
            "text/plain": [
              "True"
            ]
          },
          "metadata": {},
          "execution_count": 11
        }
      ]
    },
    {
      "cell_type": "code",
      "source": [
        "oo+1"
      ],
      "metadata": {
        "colab": {
          "base_uri": "https://localhost:8080/",
          "height": 37
        },
        "id": "5hNF0R3KUWZf",
        "outputId": "2c793b24-33ea-4a37-e54e-4ec6b7eb19b8"
      },
      "execution_count": 12,
      "outputs": [
        {
          "output_type": "execute_result",
          "data": {
            "text/latex": "$\\displaystyle \\infty$",
            "text/plain": [
              "oo"
            ]
          },
          "metadata": {},
          "execution_count": 12
        }
      ]
    },
    {
      "cell_type": "markdown",
      "source": [
        "Thực hành 3a"
      ],
      "metadata": {
        "id": "fQcFAhyVUfgr"
      }
    },
    {
      "cell_type": "code",
      "source": [
        "Rational(1,2)+Rational(1,3)"
      ],
      "metadata": {
        "colab": {
          "base_uri": "https://localhost:8080/",
          "height": 51
        },
        "id": "-SrmTTWfUZ8D",
        "outputId": "4fccd353-bdf8-4233-b9a3-4542fe6482f2"
      },
      "execution_count": 13,
      "outputs": [
        {
          "output_type": "execute_result",
          "data": {
            "text/latex": "$\\displaystyle \\frac{5}{6}$",
            "text/plain": [
              "5/6"
            ]
          },
          "metadata": {},
          "execution_count": 13
        }
      ]
    },
    {
      "cell_type": "code",
      "source": [
        "Rational(1,2)+1"
      ],
      "metadata": {
        "colab": {
          "base_uri": "https://localhost:8080/",
          "height": 51
        },
        "id": "4df4NwHlUui2",
        "outputId": "379cc3b2-9c14-44f3-9142-ff26a14dd872"
      },
      "execution_count": 14,
      "outputs": [
        {
          "output_type": "execute_result",
          "data": {
            "text/latex": "$\\displaystyle \\frac{3}{2}$",
            "text/plain": [
              "3/2"
            ]
          },
          "metadata": {},
          "execution_count": 14
        }
      ]
    },
    {
      "cell_type": "code",
      "source": [
        "Rational(1,3)+1+1.5"
      ],
      "metadata": {
        "colab": {
          "base_uri": "https://localhost:8080/",
          "height": 37
        },
        "id": "izshPplkU2BW",
        "outputId": "7c5478ba-73f6-4884-c977-c720bdbe15de"
      },
      "execution_count": 16,
      "outputs": [
        {
          "output_type": "execute_result",
          "data": {
            "text/latex": "$\\displaystyle 2.83333333333333$",
            "text/plain": [
              "2.83333333333333"
            ]
          },
          "metadata": {},
          "execution_count": 16
        }
      ]
    },
    {
      "cell_type": "markdown",
      "source": [
        "Thực hành 3b"
      ],
      "metadata": {
        "id": "93D7ikRNT4jt"
      }
    },
    {
      "cell_type": "code",
      "source": [
        "from sympy import *\n",
        "x = Symbol('x')\n",
        "y = Symbol('y')\n",
        "x-y+x+y"
      ],
      "metadata": {
        "colab": {
          "base_uri": "https://localhost:8080/",
          "height": 38
        },
        "id": "SQzSWrwPVQVe",
        "outputId": "497cd545-a2fe-4ac1-a716-e398359ea8d8"
      },
      "execution_count": 25,
      "outputs": [
        {
          "output_type": "execute_result",
          "data": {
            "text/latex": "$\\displaystyle 2 x$",
            "text/plain": [
              "2*x"
            ]
          },
          "metadata": {},
          "execution_count": 25
        }
      ]
    },
    {
      "cell_type": "code",
      "source": [
        "(x+y)**2"
      ],
      "metadata": {
        "colab": {
          "base_uri": "https://localhost:8080/",
          "height": 39
        },
        "id": "7Ys7n4POWITc",
        "outputId": "f70c0fa2-0f3a-4a89-8493-8e28becdde5a"
      },
      "execution_count": 24,
      "outputs": [
        {
          "output_type": "execute_result",
          "data": {
            "text/latex": "$\\displaystyle \\left(x + y\\right)^{2}$",
            "text/plain": [
              "(x + y)**2"
            ]
          },
          "metadata": {},
          "execution_count": 24
        }
      ]
    },
    {
      "cell_type": "markdown",
      "source": [
        "Thực hành 4"
      ],
      "metadata": {
        "id": "5OAEQEenMpdp"
      }
    },
    {
      "cell_type": "code",
      "source": [
        "from sympy.core import symbol\n",
        "from sympy.solvers.solvers import denoms \n",
        "x = Symbol('x')\n",
        "pt = (1/x) * 1/(x-3)\n",
        "d = denoms(pt)\n",
        "print(d)\n"
      ],
      "metadata": {
        "colab": {
          "base_uri": "https://localhost:8080/"
        },
        "id": "3jpGHxFVMrnp",
        "outputId": "1cff1448-9026-40bf-d2ad-9d92996e3129"
      },
      "execution_count": 26,
      "outputs": [
        {
          "output_type": "stream",
          "name": "stdout",
          "text": [
            "{x - 3, x}\n"
          ]
        }
      ]
    },
    {
      "cell_type": "markdown",
      "source": [
        "Thực hành 5"
      ],
      "metadata": {
        "id": "jdNRyq5YPOug"
      }
    },
    {
      "cell_type": "code",
      "source": [
        "from sympy.core import symbol\n",
        "x = Symbol('x')\n",
        "pt = (1+1/x)/(x-1)\n",
        "from sympy.solvers.solvers import denoms\n",
        "loai_tru = set()\n",
        "for d in denoms(pt):\n",
        "  for s in solve(d):\n",
        "    loai_tru.add(s)\n",
        "print(loai_tru)"
      ],
      "metadata": {
        "colab": {
          "base_uri": "https://localhost:8080/"
        },
        "id": "J5Z-BpKxPTsZ",
        "outputId": "3f307f70-17d1-4ce6-c1ce-bb7a5e53f330"
      },
      "execution_count": 27,
      "outputs": [
        {
          "output_type": "stream",
          "name": "stdout",
          "text": [
            "{0, 1}\n"
          ]
        }
      ]
    },
    {
      "cell_type": "markdown",
      "source": [
        "Thực hành 6"
      ],
      "metadata": {
        "id": "KFCCoso9WweS"
      }
    },
    {
      "cell_type": "code",
      "source": [
        "from sympy.core import symbol\n",
        "x = Symbol('x',positive = True)\n",
        "if(x+3)>0:\n",
        "  print('Chắc chắn x+3 dương!')\n",
        "else:\n",
        "  print('Chưa chắc chắn x+3 dương!')"
      ],
      "metadata": {
        "colab": {
          "base_uri": "https://localhost:8080/"
        },
        "id": "SfuAFLaXW2hC",
        "outputId": "17222f58-43b8-47fe-a240-459f0d4f45e4"
      },
      "execution_count": 28,
      "outputs": [
        {
          "output_type": "stream",
          "name": "stdout",
          "text": [
            "Chắc chắn x+3 dương!\n"
          ]
        }
      ]
    },
    {
      "cell_type": "markdown",
      "source": [
        "Thực hành 7"
      ],
      "metadata": {
        "id": "dK-B7QwEcLIG"
      }
    },
    {
      "cell_type": "code",
      "source": [
        "import math\n",
        "math.sin(math.pi/2)"
      ],
      "metadata": {
        "colab": {
          "base_uri": "https://localhost:8080/"
        },
        "id": "QTNVtQdAcKPw",
        "outputId": "1d361c06-067f-4f38-eaa7-d5292d80df9a"
      },
      "execution_count": 56,
      "outputs": [
        {
          "output_type": "execute_result",
          "data": {
            "text/plain": [
              "1.0"
            ]
          },
          "metadata": {},
          "execution_count": 56
        }
      ]
    },
    {
      "cell_type": "code",
      "source": [
        "import sympy\n",
        "sympy.sin(math.pi/2)"
      ],
      "metadata": {
        "colab": {
          "base_uri": "https://localhost:8080/",
          "height": 37
        },
        "id": "xZi-HDnmciAR",
        "outputId": "f4f47dfb-4ab7-45be-c181-7eba255c4320"
      },
      "execution_count": 59,
      "outputs": [
        {
          "output_type": "execute_result",
          "data": {
            "text/latex": "$\\displaystyle 1.0$",
            "text/plain": [
              "1.00000000000000"
            ]
          },
          "metadata": {},
          "execution_count": 59
        }
      ]
    },
    {
      "cell_type": "code",
      "source": [
        "from sympy import Symbol\n",
        "theta = Symbol('theta')\n",
        "import sympy\n",
        "2*sympy.sin(theta)==sympy.sin(theta)+sympy.sin(theta)"
      ],
      "metadata": {
        "colab": {
          "base_uri": "https://localhost:8080/"
        },
        "id": "Cu3H0ryrdbBj",
        "outputId": "b4b8dd23-99fd-4f8f-b482-8e73d58cf8aa"
      },
      "execution_count": 61,
      "outputs": [
        {
          "output_type": "execute_result",
          "data": {
            "text/plain": [
              "True"
            ]
          },
          "metadata": {},
          "execution_count": 61
        }
      ]
    },
    {
      "cell_type": "code",
      "source": [
        "from sympy import Symbol\n",
        "theta = Symbol('theta')\n",
        "import sympy\n",
        "(2*sympy.sin(theta)*sympy.cos(theta)).equals(sympy.sin(2*theta))"
      ],
      "metadata": {
        "colab": {
          "base_uri": "https://localhost:8080/"
        },
        "id": "gtKJ4kU3e8_T",
        "outputId": "0fe2bc77-ebe8-494a-8f33-fdcc3ee86b9c"
      },
      "execution_count": 64,
      "outputs": [
        {
          "output_type": "execute_result",
          "data": {
            "text/plain": [
              "True"
            ]
          },
          "metadata": {},
          "execution_count": 64
        }
      ]
    },
    {
      "cell_type": "markdown",
      "source": [
        "Thực hành 8"
      ],
      "metadata": {
        "id": "vPUgLWP0iA5l"
      }
    },
    {
      "cell_type": "code",
      "source": [
        "from sympy import sin, solve, Symbol\n",
        "u = Symbol('u')\n",
        "t = Symbol('t')\n",
        "g = Symbol('g')\n",
        "theta = Symbol('theta')\n",
        "solve(u*sin(theta)-g*t,t)\n"
      ],
      "metadata": {
        "colab": {
          "base_uri": "https://localhost:8080/"
        },
        "id": "3F1o1cxTxX_-",
        "outputId": "70338486-8654-4d90-f7ee-99dd2292996d"
      },
      "execution_count": 2,
      "outputs": [
        {
          "output_type": "execute_result",
          "data": {
            "text/plain": [
              "[u*sin(theta)/g]"
            ]
          },
          "metadata": {},
          "execution_count": 2
        }
      ]
    },
    {
      "cell_type": "markdown",
      "source": [
        "Thực hành 9"
      ],
      "metadata": {
        "id": "t0U0SEz6yPj4"
      }
    },
    {
      "cell_type": "code",
      "source": [
        "from sympy import Limit, Symbol, S\n",
        "x = Symbol('x')\n",
        "Limit(1/x,x,S.Infinity)"
      ],
      "metadata": {
        "colab": {
          "base_uri": "https://localhost:8080/",
          "height": 51
        },
        "id": "FIpIoZoJycVR",
        "outputId": "13bbde1d-65ca-4a9a-d7a7-84ffdb644e86"
      },
      "execution_count": 8,
      "outputs": [
        {
          "output_type": "execute_result",
          "data": {
            "text/latex": "$\\displaystyle \\lim_{x \\to \\infty} \\frac{1}{x}$",
            "text/plain": [
              "Limit(1/x, x, oo, dir='-')"
            ]
          },
          "metadata": {},
          "execution_count": 8
        }
      ]
    },
    {
      "cell_type": "code",
      "source": [
        "gioi_han =Limit(1/x,x,S.Infinity)\n",
        "gioi_han.doit()"
      ],
      "metadata": {
        "colab": {
          "base_uri": "https://localhost:8080/",
          "height": 37
        },
        "id": "yQfpfuHNzjki",
        "outputId": "073295a8-a5f1-4c96-a2a2-233af2b01739"
      },
      "execution_count": 9,
      "outputs": [
        {
          "output_type": "execute_result",
          "data": {
            "text/latex": "$\\displaystyle 0$",
            "text/plain": [
              "0"
            ]
          },
          "metadata": {},
          "execution_count": 9
        }
      ]
    },
    {
      "cell_type": "markdown",
      "source": [
        "  Thực hành 10a"
      ],
      "metadata": {
        "id": "jQxUnk-iz3x3"
      }
    },
    {
      "cell_type": "code",
      "source": [
        "from sympy import Limit\n",
        "Limit(1/x,x,0,dir='-').doit()\n"
      ],
      "metadata": {
        "colab": {
          "base_uri": "https://localhost:8080/",
          "height": 37
        },
        "id": "OZ92tljQz7h1",
        "outputId": "60d0dd1a-caa1-4fd9-ef0b-80d04e24b5df"
      },
      "execution_count": 11,
      "outputs": [
        {
          "output_type": "execute_result",
          "data": {
            "text/latex": "$\\displaystyle -\\infty$",
            "text/plain": [
              "-oo"
            ]
          },
          "metadata": {},
          "execution_count": 11
        }
      ]
    },
    {
      "cell_type": "code",
      "source": [
        "from sympy import Limit\n",
        "Limit(1/x,x,0,dir='+').doit()"
      ],
      "metadata": {
        "colab": {
          "base_uri": "https://localhost:8080/",
          "height": 37
        },
        "id": "Rf5ruLFn0ajP",
        "outputId": "5542bb87-9b4a-4eda-dad1-7e4a5e93ea2c"
      },
      "execution_count": 12,
      "outputs": [
        {
          "output_type": "execute_result",
          "data": {
            "text/latex": "$\\displaystyle \\infty$",
            "text/plain": [
              "oo"
            ]
          },
          "metadata": {},
          "execution_count": 12
        }
      ]
    },
    {
      "cell_type": "markdown",
      "source": [
        "Thực hành 10b"
      ],
      "metadata": {
        "id": "M04OSJ1w0iPj"
      }
    },
    {
      "cell_type": "code",
      "source": [
        "from sympy import sin, Symbol\n",
        "Limit(sin(x)/x,x,0).doit()"
      ],
      "metadata": {
        "colab": {
          "base_uri": "https://localhost:8080/",
          "height": 37
        },
        "id": "AMdGBYjd0rHy",
        "outputId": "b73541d2-8794-4bd7-8b6d-a3646fce344e"
      },
      "execution_count": 14,
      "outputs": [
        {
          "output_type": "execute_result",
          "data": {
            "text/latex": "$\\displaystyle 1$",
            "text/plain": [
              "1"
            ]
          },
          "metadata": {},
          "execution_count": 14
        }
      ]
    },
    {
      "cell_type": "markdown",
      "source": [
        "Thực hành 11a"
      ],
      "metadata": {
        "id": "V313lEyX1HIb"
      }
    },
    {
      "cell_type": "code",
      "source": [
        "from sympy import Limit, Symbol, S, sin\n",
        "x = Symbol('x')\n",
        "Limit(x*sin(1/x),x,S.Infinity).doit()"
      ],
      "metadata": {
        "colab": {
          "base_uri": "https://localhost:8080/",
          "height": 37
        },
        "id": "sOX2hSaM1SDv",
        "outputId": "e5a6d0c7-cf61-4f27-e651-c2071a311e38"
      },
      "execution_count": 31,
      "outputs": [
        {
          "output_type": "execute_result",
          "data": {
            "text/latex": "$\\displaystyle 1$",
            "text/plain": [
              "1"
            ]
          },
          "metadata": {},
          "execution_count": 31
        }
      ]
    },
    {
      "cell_type": "markdown",
      "source": [
        "Thực hành 11b"
      ],
      "metadata": {
        "id": "LOarwUZI2JqH"
      }
    },
    {
      "cell_type": "code",
      "source": [
        "from sympy import Limit, Symbol, S, sin\n",
        "x = Symbol('x')\n",
        "Limit(x*sin(1/x),x,S.Infinity).doit()"
      ],
      "metadata": {
        "colab": {
          "base_uri": "https://localhost:8080/",
          "height": 37
        },
        "id": "B_R0un1Y2MKV",
        "outputId": "b10b1504-3f8d-421e-af63-9459948c4aaa"
      },
      "execution_count": 2,
      "outputs": [
        {
          "output_type": "execute_result",
          "data": {
            "text/latex": "$\\displaystyle 1$",
            "text/plain": [
              "1"
            ]
          },
          "metadata": {},
          "execution_count": 2
        }
      ]
    },
    {
      "cell_type": "markdown",
      "source": [
        "Thực hành 11c"
      ],
      "metadata": {
        "id": "SIexdnHOqm86"
      }
    },
    {
      "cell_type": "code",
      "source": [
        "from sympy import Limit, Symbol, S\n",
        "n = Symbol('n')\n",
        "Limit((1+1/n)**n,n,S.Infinity).doit()"
      ],
      "metadata": {
        "colab": {
          "base_uri": "https://localhost:8080/",
          "height": 38
        },
        "id": "ZAMx4t7fqps5",
        "outputId": "012d859a-21c8-4286-b9aa-6a31c11f54cb"
      },
      "execution_count": 5,
      "outputs": [
        {
          "output_type": "execute_result",
          "data": {
            "text/latex": "$\\displaystyle e$",
            "text/plain": [
              "E"
            ]
          },
          "metadata": {},
          "execution_count": 5
        }
      ]
    },
    {
      "cell_type": "markdown",
      "source": [
        "Thực hành 12"
      ],
      "metadata": {
        "id": "9E3YK5nDrP0Q"
      }
    },
    {
      "cell_type": "code",
      "source": [
        "from sympy import Limit, Symbol, S\n",
        "p = Symbol('p',positive = True)\n",
        "r = Symbol('r',positive = True)\n",
        "t = Symbol('t',positive = True)\n",
        "Limit(p*(1+r/n)**(n*t),n,S.Infinity).doit()\n"
      ],
      "metadata": {
        "colab": {
          "base_uri": "https://localhost:8080/",
          "height": 38
        },
        "id": "SGfCiG_MrR1z",
        "outputId": "f0e72779-b7ca-46ae-d65e-c9e8f5971105"
      },
      "execution_count": 7,
      "outputs": [
        {
          "output_type": "execute_result",
          "data": {
            "text/latex": "$\\displaystyle p e^{r t}$",
            "text/plain": [
              "p*exp(r*t)"
            ]
          },
          "metadata": {},
          "execution_count": 7
        }
      ]
    },
    {
      "cell_type": "markdown",
      "source": [
        "Thực hành 13"
      ],
      "metadata": {
        "id": "Pah7wT1gCcWk"
      }
    },
    {
      "cell_type": "code",
      "source": [
        "from sympy import Limit, Symbol\n",
        "t = Symbol('t')\n",
        "St = 5*t**2+2*t+8\n",
        "\n",
        "t1 = Symbol('t1')\n",
        "delta_t = Symbol ('delta_t')\n",
        "\n",
        "St1 = St.subs({t:t1})\n",
        "St1_delta = St.subs({t:t1+delta_t})\n",
        "\n",
        "Limit((St1_delta-St1)/delta_t,delta_t,0).doit()\n"
      ],
      "metadata": {
        "colab": {
          "base_uri": "https://localhost:8080/",
          "height": 38
        },
        "id": "LlgcyAj6DRhx",
        "outputId": "287a81b0-d79f-4377-fda0-88b70f3e0de9"
      },
      "execution_count": 9,
      "outputs": [
        {
          "output_type": "execute_result",
          "data": {
            "text/latex": "$\\displaystyle 10 t_{1} + 2$",
            "text/plain": [
              "10*t1 + 2"
            ]
          },
          "metadata": {},
          "execution_count": 9
        }
      ]
    },
    {
      "cell_type": "markdown",
      "source": [
        "**Bài Tập Chương 1**"
      ],
      "metadata": {
        "id": "uAxOjDf4FXeB"
      }
    },
    {
      "cell_type": "markdown",
      "source": [
        "Bài tập 1"
      ],
      "metadata": {
        "id": "tzhk_2W8Fb9w"
      }
    },
    {
      "cell_type": "code",
      "source": [
        "3.1==3.0"
      ],
      "metadata": {
        "colab": {
          "base_uri": "https://localhost:8080/"
        },
        "id": "cnv0TWaMIy2Q",
        "outputId": "3b16b9a6-15dc-4ced-e579-b0ea7c6ef512"
      },
      "execution_count": 22,
      "outputs": [
        {
          "output_type": "execute_result",
          "data": {
            "text/plain": [
              "False"
            ]
          },
          "metadata": {},
          "execution_count": 22
        }
      ]
    },
    {
      "cell_type": "code",
      "source": [
        "3.00000000000000001==3.00000000000000000"
      ],
      "metadata": {
        "colab": {
          "base_uri": "https://localhost:8080/"
        },
        "id": "Wi-3ZRCcFe6S",
        "outputId": "df07a63a-24a8-45f3-c193-ad19194183af"
      },
      "execution_count": 20,
      "outputs": [
        {
          "output_type": "execute_result",
          "data": {
            "text/plain": [
              "True"
            ]
          },
          "metadata": {},
          "execution_count": 20
        }
      ]
    },
    {
      "cell_type": "code",
      "source": [
        "a = 3.1\n",
        "b = 3.0\n",
        "i = -1\n",
        "while (a!=b):\n",
        "  print(a,\"!=\",b)\n",
        "  a_new = a-0.9*10**(i)\n",
        "  if (a_new!=a):\n",
        "    a = a_new\n",
        "    i = i-1\n",
        "  else:\n",
        "    print(i)\n",
        "    a = b\n"
      ],
      "metadata": {
        "colab": {
          "base_uri": "https://localhost:8080/"
        },
        "id": "t-EQKiybJn7Z",
        "outputId": "8973148b-4534-4c76-873b-8a49f757a5ff"
      },
      "execution_count": 41,
      "outputs": [
        {
          "output_type": "stream",
          "name": "stdout",
          "text": [
            "3.1 != 3.0\n",
            "3.0100000000000002 != 3.0\n",
            "3.0010000000000003 != 3.0\n",
            "3.0001 != 3.0\n",
            "3.00001 != 3.0\n",
            "3.000001 != 3.0\n",
            "3.0000001000000003 != 3.0\n",
            "3.0000000100000004 != 3.0\n",
            "3.0000000010000005 != 3.0\n",
            "3.0000000001000005 != 3.0\n",
            "3.0000000000100004 != 3.0\n",
            "3.0000000000010005 != 3.0\n",
            "3.0000000000001004 != 3.0\n",
            "3.00000000000001 != 3.0\n",
            "3.0000000000000013 != 3.0\n",
            "3.0000000000000004 != 3.0\n",
            "-16\n"
          ]
        }
      ]
    },
    {
      "cell_type": "markdown",
      "source": [
        "Giải thích bài tập 1\n",
        "*   Dòng 1: Gán giá trị a cho 3.1\n",
        "*   Dòng 2: Gán giá trị b cho 3.0\n",
        "*   Dòng 3: Gán giá trị i cho -1\n",
        "*   Dòng 4,5,6: Dùng vòng lập While để in và chạy theo công thức giá trị a mới bằng giá trị a-0.9*10**(i) trong đó giá trị i giảm đi 1 đơn vị thì kết quả sẽ tăng lên 1 số 0\n",
        "*   Dòng 7,8,9: Nếu giá trị a mới khác với a ban đầu trả tiếp tục giảm i 1 đơn vị cho đến khi kết quả máy cho ra giá trị a= với giá trị b\n",
        "*   Kết quả : nếu giá trị i = -16 (3.00000000000000001) thì máy sẽ cho ra a = b là True .Kết thúc\n",
        "\n",
        "```\n",
        "# 3.00000000000000001==3.00000000000000000\n",
        "True\n",
        "```\n",
        "\n",
        " \n",
        "\n",
        "\n",
        "\n",
        "\n",
        "\n",
        "\n",
        "\n",
        "\n",
        "\n",
        "\n",
        "\n",
        "\n"
      ],
      "metadata": {
        "id": "wqwvqZLoN8oZ"
      }
    },
    {
      "cell_type": "markdown",
      "source": [
        "Bài tập 2"
      ],
      "metadata": {
        "id": "bbLwtjLjL4Mb"
      }
    },
    {
      "cell_type": "code",
      "source": [
        "a = True\n",
        "b = False\n",
        "1/0\n",
        "if (a==b) and (1/0>0):\n",
        "  print(\"a=b\")\n",
        "else:\n",
        "  print(\"a khác b\")"
      ],
      "metadata": {
        "colab": {
          "base_uri": "https://localhost:8080/",
          "height": 236
        },
        "id": "ymwt5xe9Mxey",
        "outputId": "04ce973b-4d97-4cbe-8b96-2432813e1fc3"
      },
      "execution_count": 45,
      "outputs": [
        {
          "output_type": "error",
          "ename": "ZeroDivisionError",
          "evalue": "ignored",
          "traceback": [
            "\u001b[0;31m---------------------------------------------------------------------------\u001b[0m",
            "\u001b[0;31mZeroDivisionError\u001b[0m                         Traceback (most recent call last)",
            "\u001b[0;32m<ipython-input-45-fd5ce7f69d7c>\u001b[0m in \u001b[0;36m<module>\u001b[0;34m()\u001b[0m\n\u001b[1;32m      1\u001b[0m \u001b[0ma\u001b[0m \u001b[0;34m=\u001b[0m \u001b[0;32mTrue\u001b[0m\u001b[0;34m\u001b[0m\u001b[0;34m\u001b[0m\u001b[0m\n\u001b[1;32m      2\u001b[0m \u001b[0mb\u001b[0m \u001b[0;34m=\u001b[0m \u001b[0;32mFalse\u001b[0m\u001b[0;34m\u001b[0m\u001b[0;34m\u001b[0m\u001b[0m\n\u001b[0;32m----> 3\u001b[0;31m \u001b[0;36m1\u001b[0m\u001b[0;34m/\u001b[0m\u001b[0;36m0\u001b[0m\u001b[0;34m\u001b[0m\u001b[0;34m\u001b[0m\u001b[0m\n\u001b[0m\u001b[1;32m      4\u001b[0m \u001b[0;32mif\u001b[0m \u001b[0;34m(\u001b[0m\u001b[0ma\u001b[0m\u001b[0;34m==\u001b[0m\u001b[0mb\u001b[0m\u001b[0;34m)\u001b[0m \u001b[0;32mand\u001b[0m \u001b[0;34m(\u001b[0m\u001b[0;36m1\u001b[0m\u001b[0;34m/\u001b[0m\u001b[0;36m0\u001b[0m\u001b[0;34m>\u001b[0m\u001b[0;36m0\u001b[0m\u001b[0;34m)\u001b[0m\u001b[0;34m:\u001b[0m\u001b[0;34m\u001b[0m\u001b[0;34m\u001b[0m\u001b[0m\n\u001b[1;32m      5\u001b[0m   \u001b[0mprint\u001b[0m\u001b[0;34m(\u001b[0m\u001b[0;34m\"a=b\"\u001b[0m\u001b[0;34m)\u001b[0m\u001b[0;34m\u001b[0m\u001b[0;34m\u001b[0m\u001b[0m\n",
            "\u001b[0;31mZeroDivisionError\u001b[0m: division by zero"
          ]
        }
      ]
    },
    {
      "cell_type": "markdown",
      "source": [
        "Kết quả câu lệnh if là: Vì 1/0 là vô nghĩa.Xảy ra lỗi và không thực hiện câu lệnh"
      ],
      "metadata": {
        "id": "EZkMDEKige48"
      }
    },
    {
      "cell_type": "code",
      "source": [
        "a = True\n",
        "b = False\n",
        "if (a==b) and (1/0>0):\n",
        "  print(\"a=b\")\n",
        "else:\n",
        "  print(\"a khác b\")"
      ],
      "metadata": {
        "colab": {
          "base_uri": "https://localhost:8080/"
        },
        "id": "nNjFAfJVhM51",
        "outputId": "145d0c18-294b-4f66-cd77-d7ec8aa47769"
      },
      "execution_count": 49,
      "outputs": [
        {
          "output_type": "stream",
          "name": "stdout",
          "text": [
            "a khác b\n"
          ]
        }
      ]
    },
    {
      "cell_type": "markdown",
      "source": [
        "Kết quả cho ra là: a khác b vì trong câu lệnh and xét hai điều kiện nhưng điều kiện đầu sai a khác b (True khác False), nên máy đã đưa ra đáp án là a khác b và bỏ qua các phép tính sau không cần thiết"
      ],
      "metadata": {
        "id": "qeRSugTBhgbp"
      }
    }
  ]
}