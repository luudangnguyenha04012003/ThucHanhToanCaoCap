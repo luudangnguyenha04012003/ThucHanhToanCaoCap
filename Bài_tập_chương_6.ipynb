{
  "nbformat": 4,
  "nbformat_minor": 0,
  "metadata": {
    "colab": {
      "name": "Bài tập chương 6.ipynb",
      "provenance": [],
      "authorship_tag": "ABX9TyPJ2gBtoV1s2mD6XQNr46y2",
      "include_colab_link": true
    },
    "kernelspec": {
      "name": "python3",
      "display_name": "Python 3"
    },
    "language_info": {
      "name": "python"
    }
  },
  "cells": [
    {
      "cell_type": "markdown",
      "metadata": {
        "id": "view-in-github",
        "colab_type": "text"
      },
      "source": [
        "<a href=\"https://colab.research.google.com/github/luudangnguyenha04012003/ThucHanhToanCaoCap/blob/main/B%C3%A0i_t%E1%BA%ADp_ch%C6%B0%C6%A1ng_6.ipynb\" target=\"_parent\"><img src=\"https://colab.research.google.com/assets/colab-badge.svg\" alt=\"Open In Colab\"/></a>"
      ]
    },
    {
      "cell_type": "markdown",
      "source": [
        "Thực hành 1"
      ],
      "metadata": {
        "id": "Y2dZpJuLPSWy"
      }
    },
    {
      "cell_type": "code",
      "source": [
        "import math\n",
        "def giaithua(n):\n",
        "  if n == 0:\n",
        "      return 1\n",
        "  else:\n",
        "      return n*giaithua(n - 1)"
      ],
      "metadata": {
        "id": "1ejIoUljPT0F"
      },
      "execution_count": 1,
      "outputs": []
    },
    {
      "cell_type": "code",
      "source": [
        "giaithua(3)"
      ],
      "metadata": {
        "colab": {
          "base_uri": "https://localhost:8080/"
        },
        "id": "ni6s6XufPdbx",
        "outputId": "df5c35df-1fa1-4c16-f61d-7d036a08233a"
      },
      "execution_count": 2,
      "outputs": [
        {
          "output_type": "execute_result",
          "data": {
            "text/plain": [
              "6"
            ]
          },
          "metadata": {},
          "execution_count": 2
        }
      ]
    },
    {
      "cell_type": "code",
      "source": [
        "giaithua(4)"
      ],
      "metadata": {
        "colab": {
          "base_uri": "https://localhost:8080/"
        },
        "id": "luD1qxDAPoNn",
        "outputId": "5b6a669a-eb0d-41a4-d52b-1422c51a158a"
      },
      "execution_count": 3,
      "outputs": [
        {
          "output_type": "execute_result",
          "data": {
            "text/plain": [
              "24"
            ]
          },
          "metadata": {},
          "execution_count": 3
        }
      ]
    },
    {
      "cell_type": "markdown",
      "source": [
        "Thực hành 2"
      ],
      "metadata": {
        "id": "6dQUXBs1P3zA"
      }
    },
    {
      "cell_type": "code",
      "source": [
        "def fibo(n):\n",
        "  if n == 0:\n",
        "    return 0\n",
        "  if n == 1:\n",
        "    return 1\n",
        "  return fibo(n - 1) + fibo(n - 2)"
      ],
      "metadata": {
        "id": "cN3qSm9IP5TE"
      },
      "execution_count": 8,
      "outputs": []
    },
    {
      "cell_type": "code",
      "source": [
        "fibo(4)"
      ],
      "metadata": {
        "colab": {
          "base_uri": "https://localhost:8080/"
        },
        "id": "dZ08ozvjP8HT",
        "outputId": "0df28033-c043-4a46-84c8-e2c51ba61a35"
      },
      "execution_count": 9,
      "outputs": [
        {
          "output_type": "execute_result",
          "data": {
            "text/plain": [
              "3"
            ]
          },
          "metadata": {},
          "execution_count": 9
        }
      ]
    },
    {
      "cell_type": "code",
      "source": [
        "fibo(5)"
      ],
      "metadata": {
        "colab": {
          "base_uri": "https://localhost:8080/"
        },
        "id": "-6Xe3FohQBOE",
        "outputId": "3cc11b16-3e7e-4221-aa76-530842239670"
      },
      "execution_count": 10,
      "outputs": [
        {
          "output_type": "execute_result",
          "data": {
            "text/plain": [
              "5"
            ]
          },
          "metadata": {},
          "execution_count": 10
        }
      ]
    },
    {
      "cell_type": "code",
      "source": [
        "fibo(6)"
      ],
      "metadata": {
        "colab": {
          "base_uri": "https://localhost:8080/"
        },
        "id": "VexFQUBBQSio",
        "outputId": "0ac22839-8af6-4805-8eeb-85e9054ee67f"
      },
      "execution_count": 11,
      "outputs": [
        {
          "output_type": "execute_result",
          "data": {
            "text/plain": [
              "8"
            ]
          },
          "metadata": {},
          "execution_count": 11
        }
      ]
    },
    {
      "cell_type": "markdown",
      "source": [
        "Thực hành 3"
      ],
      "metadata": {
        "id": "IMKpVNEiQW1q"
      }
    },
    {
      "cell_type": "code",
      "source": [
        "def an_exp_an(n):\n",
        "  if n == 1:\n",
        "     return 1.0/2\n",
        "  else:\n",
        "     return an_exp_an(n-1)**an_exp_an(n-1)"
      ],
      "metadata": {
        "id": "xJ2f0PGDQZlc"
      },
      "execution_count": 12,
      "outputs": []
    },
    {
      "cell_type": "code",
      "source": [
        "an_exp_an(1)"
      ],
      "metadata": {
        "colab": {
          "base_uri": "https://localhost:8080/"
        },
        "id": "gT5uX2TkQc-q",
        "outputId": "91f3804f-1252-449e-c8bb-24fff3d7de37"
      },
      "execution_count": 13,
      "outputs": [
        {
          "output_type": "execute_result",
          "data": {
            "text/plain": [
              "0.5"
            ]
          },
          "metadata": {},
          "execution_count": 13
        }
      ]
    },
    {
      "cell_type": "code",
      "source": [
        "an_exp_an(2)"
      ],
      "metadata": {
        "colab": {
          "base_uri": "https://localhost:8080/"
        },
        "id": "CkwcPKa8QgOm",
        "outputId": "ceac7ccd-2270-4113-d431-4a9ee7f7ea66"
      },
      "execution_count": 14,
      "outputs": [
        {
          "output_type": "execute_result",
          "data": {
            "text/plain": [
              "0.7071067811865476"
            ]
          },
          "metadata": {},
          "execution_count": 14
        }
      ]
    },
    {
      "cell_type": "code",
      "source": [
        "an_exp_an(3)"
      ],
      "metadata": {
        "colab": {
          "base_uri": "https://localhost:8080/"
        },
        "id": "-ZIbTf5GQi2Z",
        "outputId": "c761d121-b6cc-4ff3-a9e8-a73eac1e7fc1"
      },
      "execution_count": 15,
      "outputs": [
        {
          "output_type": "execute_result",
          "data": {
            "text/plain": [
              "0.7826540273556803"
            ]
          },
          "metadata": {},
          "execution_count": 15
        }
      ]
    },
    {
      "cell_type": "code",
      "source": [
        "an_exp_an(4)"
      ],
      "metadata": {
        "colab": {
          "base_uri": "https://localhost:8080/"
        },
        "id": "Xwxa1WQLQomx",
        "outputId": "3b040386-6151-4a46-f07c-f138a1180644"
      },
      "execution_count": 16,
      "outputs": [
        {
          "output_type": "execute_result",
          "data": {
            "text/plain": [
              "0.8254713306050621"
            ]
          },
          "metadata": {},
          "execution_count": 16
        }
      ]
    },
    {
      "cell_type": "code",
      "source": [
        "an_exp_an(5)"
      ],
      "metadata": {
        "colab": {
          "base_uri": "https://localhost:8080/"
        },
        "id": "Cf4cIGrTQqic",
        "outputId": "ae43baba-bfab-4082-e072-8066c4894f97"
      },
      "execution_count": 17,
      "outputs": [
        {
          "output_type": "execute_result",
          "data": {
            "text/plain": [
              "0.8535714578150946"
            ]
          },
          "metadata": {},
          "execution_count": 17
        }
      ]
    },
    {
      "cell_type": "code",
      "source": [
        "an_exp_an(10)"
      ],
      "metadata": {
        "colab": {
          "base_uri": "https://localhost:8080/"
        },
        "id": "O3dj_1REQtCl",
        "outputId": "e3220049-c915-4738-a976-8f08f8ded10c"
      },
      "execution_count": 18,
      "outputs": [
        {
          "output_type": "execute_result",
          "data": {
            "text/plain": [
              "0.9176411981636667"
            ]
          },
          "metadata": {},
          "execution_count": 18
        }
      ]
    },
    {
      "cell_type": "markdown",
      "source": [
        "Thực hành 4"
      ],
      "metadata": {
        "id": "RYjFRl3MQwks"
      }
    },
    {
      "cell_type": "code",
      "source": [
        "def bai4(n):\n",
        "  if n == 1:\n",
        "    return 4\n",
        "  else: \n",
        "    return 5.0/(6-bai4(n-1))"
      ],
      "metadata": {
        "id": "C-Bs7WT6Q17e"
      },
      "execution_count": 21,
      "outputs": []
    },
    {
      "cell_type": "code",
      "source": [
        "bai4(5)"
      ],
      "metadata": {
        "colab": {
          "base_uri": "https://localhost:8080/"
        },
        "id": "x7TSMJUoQ5eH",
        "outputId": "7639f0a1-edec-4cb1-8b6f-49f6f9e30e19"
      },
      "execution_count": 23,
      "outputs": [
        {
          "output_type": "execute_result",
          "data": {
            "text/plain": [
              "1.019108280254777"
            ]
          },
          "metadata": {},
          "execution_count": 23
        }
      ]
    },
    {
      "cell_type": "code",
      "source": [
        "bai4(6)"
      ],
      "metadata": {
        "colab": {
          "base_uri": "https://localhost:8080/"
        },
        "id": "DcFyhTk8Q_Mq",
        "outputId": "381da615-b053-4058-bb4f-e839cec9e1ac"
      },
      "execution_count": 24,
      "outputs": [
        {
          "output_type": "execute_result",
          "data": {
            "text/plain": [
              "1.0038363171355498"
            ]
          },
          "metadata": {},
          "execution_count": 24
        }
      ]
    },
    {
      "cell_type": "code",
      "source": [
        "bai4(7)                                                                                                             "
      ],
      "metadata": {
        "colab": {
          "base_uri": "https://localhost:8080/"
        },
        "id": "n3cS7sdvRAEL",
        "outputId": "2d4956c4-251d-4a8f-8075-8cefe002be5e"
      },
      "execution_count": 22,
      "outputs": [
        {
          "output_type": "execute_result",
          "data": {
            "text/plain": [
              "1.000767852572306"
            ]
          },
          "metadata": {},
          "execution_count": 22
        }
      ]
    },
    {
      "cell_type": "code",
      "source": [
        "bai4(10)"
      ],
      "metadata": {
        "colab": {
          "base_uri": "https://localhost:8080/"
        },
        "id": "pl-IuK-VRWIx",
        "outputId": "aabb751d-5ce8-4629-8ca9-988732cf72c0"
      },
      "execution_count": 25,
      "outputs": [
        {
          "output_type": "execute_result",
          "data": {
            "text/plain": [
              "1.0000061439905628"
            ]
          },
          "metadata": {},
          "execution_count": 25
        }
      ]
    },
    {
      "cell_type": "code",
      "source": [
        "bai4(100)"
      ],
      "metadata": {
        "colab": {
          "base_uri": "https://localhost:8080/"
        },
        "id": "y7Ofn8nQRbwg",
        "outputId": "f9bc5644-2291-46af-a972-5c43d3a7ff56"
      },
      "execution_count": 26,
      "outputs": [
        {
          "output_type": "execute_result",
          "data": {
            "text/plain": [
              "1.0"
            ]
          },
          "metadata": {},
          "execution_count": 26
        }
      ]
    },
    {
      "cell_type": "markdown",
      "source": [
        "Thực hành 5"
      ],
      "metadata": {
        "id": "UPIt63y5RfjD"
      }
    },
    {
      "cell_type": "code",
      "source": [
        "def tisoFibo(n):\n",
        "  if n == 1:\n",
        "    return 1\n",
        "  else:\n",
        "    return 1.0 + 1.0/tisoFibo(n - 1)\n",
        "for i in range(1, 11):\n",
        "  print(i, tisoFibo(i))"
      ],
      "metadata": {
        "colab": {
          "base_uri": "https://localhost:8080/"
        },
        "id": "DT0N5D-zRjpR",
        "outputId": "db8035d2-b594-4169-d760-9ce735d9694d"
      },
      "execution_count": 27,
      "outputs": [
        {
          "output_type": "stream",
          "name": "stdout",
          "text": [
            "1 1\n",
            "2 2.0\n",
            "3 1.5\n",
            "4 1.6666666666666665\n",
            "5 1.6\n",
            "6 1.625\n",
            "7 1.6153846153846154\n",
            "8 1.619047619047619\n",
            "9 1.6176470588235294\n",
            "10 1.6181818181818182\n"
          ]
        }
      ]
    },
    {
      "cell_type": "markdown",
      "source": [
        "+ 10 số hạng đầu tiên là dãy không đơn điệu\n",
        "+ Dãy số a1,a3,a5,a7,a9 có đơn điệu tăng\n",
        "+ Dãy số a2,a4,a6,a8,a10 không có đơn điệu tăng (đơn điệu giảm)"
      ],
      "metadata": {
        "id": "iGVTFTeYI8qI"
      }
    },
    {
      "cell_type": "markdown",
      "source": [
        "# Chương trình tổng quát về Gradient Ascent"
      ],
      "metadata": {
        "id": "iMNiy-3XuywV"
      }
    },
    {
      "cell_type": "code",
      "source": [
        "from sympy import Derivative, Symbol, sympify\n",
        "def grad_ascent(x0, ham_f1x, x):\n",
        "  epsilon = 1e-6\n",
        "  step_size = 1e-4\n",
        "  x_old = x0\n",
        "  x_new = x_old + step_size*ham_f1x.subs({x:x_old}).evalf()\n",
        "  while abs(x_old - x_new) > epsilon:\n",
        "    x_old = x_new\n",
        "    x_new = x_old + step_size*ham_f1x.subs({x:x_old}).evalf()\n",
        "  return x_new"
      ],
      "metadata": {
        "id": "19foaVOTRplL"
      },
      "execution_count": 29,
      "outputs": []
    },
    {
      "cell_type": "code",
      "source": [
        "if __name__ == '__main__':\n",
        "  f = input('Nhap ham 1 bien (f): ')\n",
        "  var = input('Nhap ten bien tuong ung (x): ')\n",
        "  var0 = float(input('Nhap gia tri khoi dau cho bien x: '))\n",
        "\n",
        "  try:\n",
        "    f = sympify(f) # kiem tra ham\n",
        "  except SympifyError:\n",
        "    print('Ham nhap khong hop le!')\n",
        "  else:\n",
        "    var = Symbol(var)\n",
        "    d = Derivative(f, var).doit()\n",
        "    var_max = grad_ascent(var0, d, var)\n",
        "    print('{0}: {1}'.format(var.name, var_max))\n",
        "    print('Maximum value: {0}'.format(f.subs({var:var_max})))"
      ],
      "metadata": {
        "id": "KNGA4jPjSGy-"
      },
      "execution_count": null,
      "outputs": []
    },
    {
      "cell_type": "markdown",
      "source": [
        "Thí nghiệm 1:"
      ],
      "metadata": {
        "id": "Nz_o5e9D2C_G"
      }
    },
    {
      "cell_type": "code",
      "source": [
        "if __name__ == '__main__':\n",
        "  f = input('Nhap ham 1 bien (f): ')\n",
        "  var = input('Nhap ten bien tuong ung (x): ')\n",
        "  var0 = float(input('Nhap gia tri khoi dau cho bien x: '))\n",
        "\n",
        "  try:\n",
        "    f = sympify(f) # kiem tra ham\n",
        "  except SympifyError:\n",
        "    print('Ham nhap khong hop le!')\n",
        "  else:\n",
        "    var = Symbol(var)\n",
        "    d = Derivative(f, var).doit()\n",
        "    var_max = grad_ascent(var0, d, var)\n",
        "    print('{0}: {1}'.format(var.name, var_max))\n",
        "    print('Maximum value: {0}'.format(f.subs({var:var_max})))"
      ],
      "metadata": {
        "id": "yqqCWbdgSRZf"
      },
      "execution_count": null,
      "outputs": []
    },
    {
      "cell_type": "markdown",
      "source": [
        "Thí nghiệm 2:"
      ],
      "metadata": {
        "id": "ryv0kwwrSXS6"
      }
    },
    {
      "cell_type": "code",
      "source": [
        "if __name__ == '__main__':\n",
        "  f = input('Nhap ham 1 bien (f): ')\n",
        "  var = input('Nhap ten bien tuong ung (x): ')\n",
        "  var0 = float(input('Nhap gia tri khoi dau cho bien x: '))\n",
        "\n",
        "  try:\n",
        "    f = sympify(f) # kiem tra ham\n",
        "  except SympifyError:\n",
        "    print('Ham nhap khong hop le!')\n",
        "  else:\n",
        "    var = Symbol(var)\n",
        "    d = Derivative(f, var).doit()\n",
        "    var_max = grad_ascent(var0, d, var)\n",
        "    print('{0}: {1}'.format(var.name, var_max))\n",
        "    print('Maximum value: {0}'.format(f.subs({var:var_max})))"
      ],
      "metadata": {
        "id": "I5MxwZbZSWwt"
      },
      "execution_count": null,
      "outputs": []
    },
    {
      "cell_type": "markdown",
      "source": [
        "Các lưu ý về giá trị khởi tạo ban đầu (initial Value)"
      ],
      "metadata": {
        "id": "Q3rnIOLpSly8"
      }
    },
    {
      "cell_type": "markdown",
      "source": [
        "Thí nghiệm 3:"
      ],
      "metadata": {
        "id": "g3ntmuN2SnWz"
      }
    },
    {
      "cell_type": "code",
      "source": [
        "if __name__ == '__main__':\n",
        "  f = input('Nhap ham 1 bien (f): ')\n",
        "  var = input('Nhap ten bien tuong ung (x): ')\n",
        "  var0 = float(input('Nhap gia tri khoi dau cho bien x: '))\n",
        "\n",
        "  try:\n",
        "    f = sympify(f) # kiem tra ham\n",
        "  except SympifyError:\n",
        "    print('Ham nhap khong hop le!')\n",
        "  else:\n",
        "    var = Symbol(var)\n",
        "    d = Derivative(f, var).doit()\n",
        "    var_max = grad_ascent(var0, d, var)\n",
        "    print('{0}: {1}'.format(var.name, var_max))\n",
        "    print('Maximum value: {0}'.format(f.subs({var:var_max})))"
      ],
      "metadata": {
        "id": "lXoEjTZWSske"
      },
      "execution_count": null,
      "outputs": []
    },
    {
      "cell_type": "code",
      "source": [
        "if __name__ == '__main__':\n",
        "  f = input('Nhap ham 1 bien (f): ')\n",
        "  var = input('Nhap ten bien tuong ung (x): ')\n",
        "  var0 = float(input('Nhap gia tri khoi dau cho bien x: '))\n",
        "\n",
        "  try:\n",
        "    f = sympify(f) # kiem tra ham\n",
        "  except SympifyError:\n",
        "    print('Ham nhap khong hop le!')\n",
        "  else:\n",
        "    var = Symbol(var)\n",
        "    d = Derivative(f, var).doit()\n",
        "    var_max = grad_ascent(var0, d, var)\n",
        "    print('{0}: {1}'.format(var.name, var_max))\n",
        "    print('Maximum value: {0}'.format(f.subs({var:var_max})))"
      ],
      "metadata": {
        "id": "_nmiTxVhSyF0"
      },
      "execution_count": null,
      "outputs": []
    },
    {
      "cell_type": "markdown",
      "source": [
        "Vài trò của kích thước bước nhảy (step_size) và Epsilon"
      ],
      "metadata": {
        "id": "cAuZZI4qTD3Z"
      }
    },
    {
      "cell_type": "code",
      "source": [
        "from sympy import Derivative, Symbol, sympify\n",
        "def grad_ascent(x0, ham_f1x, x):\n",
        "  from sympy import solve, E\n",
        "  if not solve(ham_f1x):\n",
        "    print('Khong the tiep tuc, phuong trinh {0}=0 vo nghiem'.format(ham_f1x))\n",
        "    return\n",
        "\n",
        "  epsilon = 1e-6\n",
        "  step_size = 1e-4\n",
        "  x_old = x0\n",
        "  x_new = x_old + step_size*ham_f1x.subs({x:x_old}).evalf()\n",
        "  while abs(x_old - x_new) > epsilon:\n",
        "    x_old = x_new\n",
        "    x_new = x_old + step_size*ham_f1x.subs({x:x_old}).evalf()\n",
        "\n",
        "  return x_new"
      ],
      "metadata": {
        "id": "vfPrTSk2TE4S"
      },
      "execution_count": null,
      "outputs": []
    },
    {
      "cell_type": "code",
      "source": [
        "if __name__ == '__main__':\n",
        "  f = input('Nhap ham 1 bien(f): ')\n",
        "  var = input('Nhap ten bien tuong ung(x): ')\n",
        "  var0 = float(input('Nhap gia tri khoi dau cho bien x: '))\n",
        "\n",
        "  try:\n",
        "    f = sympify(f)\n",
        "  except SxympifyError:\n",
        "    print('Ham nhap khong hop le!')\n",
        "  else:\n",
        "    var = Symbol(var)\n",
        "    d = Derivative(f, var).doit()\n",
        "    var_max = grad_ascent(var0, d, var)\n",
        "    # thêm lệnh if (nằm trong khối lệnh else) để kiểm tra giá trị var_max trước khi kết luận:\n",
        "    if var_max:\n",
        "      print('{0}: {1}'.format(var_name, var_max))\n",
        "      print('Maximum value: {0}'.format(f.subs({var:var_max})))"
      ],
      "metadata": {
        "id": "pu9-3m6aTKoK"
      },
      "execution_count": null,
      "outputs": []
    },
    {
      "cell_type": "code",
      "source": [
        "if __name__ == '__main__':\n",
        "  f = input('Nhap ham 1 bien(f): ')\n",
        "  var = input('Nhap ten bien tuong ung(x): ')\n",
        "  var0 = float(input('Nhap gia tri khoi dau cho bien x: '))\n",
        "\n",
        "  try:\n",
        "    f = sympify(f)\n",
        "  except SxympifyError:\n",
        "    print('Ham nhap khong hop le!')\n",
        "  else:\n",
        "    var = Symbol(var)\n",
        "    d = Derivative(f, var).doit()\n",
        "    var_max = grad_ascent(var0, d, var)\n",
        "    # thêm lệnh if (nằm trong khối lệnh else) để kiểm tra giá trị var_max trước khi kết luận:\n",
        "    if var_max:\n",
        "      print('{0}: {1}'.format(var_name, var_max))\n",
        "      print('Maximum value: {0}'.format(f.subs({var:var_max})))"
      ],
      "metadata": {
        "id": "0sQGPQrYTN4t"
      },
      "execution_count": null,
      "outputs": []
    }
  ]
}