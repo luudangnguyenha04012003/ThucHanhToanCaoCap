{
  "nbformat": 4,
  "nbformat_minor": 0,
  "metadata": {
    "colab": {
      "name": "Bài tập thực hành .ipynb",
      "provenance": [],
      "authorship_tag": "ABX9TyMhTpesUPDm6NxEl6FleSJX",
      "include_colab_link": true
    },
    "kernelspec": {
      "name": "python3",
      "display_name": "Python 3"
    },
    "language_info": {
      "name": "python"
    }
  },
  "cells": [
    {
      "cell_type": "markdown",
      "metadata": {
        "id": "view-in-github",
        "colab_type": "text"
      },
      "source": [
        "<a href=\"https://colab.research.google.com/github/luudangnguyenha04012003/ThucHanhToanCaoCap/blob/main/B%C3%A0i_t%E1%BA%ADp_th%E1%BB%B1c_h%C3%A0nh_t%E1%BB%AB%20_ch%C6%B0%C6%A1ng1-5.ipynb\" target=\"_parent\"><img src=\"https://colab.research.google.com/assets/colab-badge.svg\" alt=\"Open In Colab\"/></a>"
      ]
    },
    {
      "cell_type": "markdown",
      "source": [
        "Bài tập chương 1"
      ],
      "metadata": {
        "id": "Kql2_tqBi_zU"
      }
    },
    {
      "cell_type": "markdown",
      "source": [
        "Bài 1"
      ],
      "metadata": {
        "id": "qt-kClGcjCyI"
      }
    },
    {
      "cell_type": "code",
      "source": [
        "3.1 == 3.0"
      ],
      "metadata": {
        "colab": {
          "base_uri": "https://localhost:8080/"
        },
        "id": "Y39zl-HCjD3q",
        "outputId": "53b7a01f-d269-40d3-e77d-e08989a5897d"
      },
      "execution_count": 4,
      "outputs": [
        {
          "output_type": "execute_result",
          "data": {
            "text/plain": [
              "False"
            ]
          },
          "metadata": {},
          "execution_count": 4
        }
      ]
    },
    {
      "cell_type": "code",
      "source": [
        "3.01 ==  3.0"
      ],
      "metadata": {
        "colab": {
          "base_uri": "https://localhost:8080/"
        },
        "id": "AQM94OaMjI7I",
        "outputId": "afaa45bf-158f-4fa7-a946-de7ada4a06b5"
      },
      "execution_count": 3,
      "outputs": [
        {
          "output_type": "execute_result",
          "data": {
            "text/plain": [
              "False"
            ]
          },
          "metadata": {},
          "execution_count": 3
        }
      ]
    },
    {
      "cell_type": "code",
      "source": [
        "3.001 == 3.0"
      ],
      "metadata": {
        "colab": {
          "base_uri": "https://localhost:8080/"
        },
        "id": "8DQ7Bi5VjLJZ",
        "outputId": "b17aa466-8e21-48e4-c811-738c78ccf28d"
      },
      "execution_count": 2,
      "outputs": [
        {
          "output_type": "execute_result",
          "data": {
            "text/plain": [
              "False"
            ]
          },
          "metadata": {},
          "execution_count": 2
        }
      ]
    },
    {
      "cell_type": "code",
      "source": [
        "a = 3.1\n",
        "b = 3.0\n",
        "i = -1\n",
        "while (a != b):\n",
        "  print(a, \" != \", b)\n",
        "  a_new = a - 0.9 * 10 ** i\n",
        "  if (a_new != a):\n",
        "    a = a_new\n",
        "    i -= 1\n",
        "  else:\n",
        "    print(i)\n",
        "    a = b"
      ],
      "metadata": {
        "colab": {
          "base_uri": "https://localhost:8080/"
        },
        "id": "N2oNWulsjNh1",
        "outputId": "cc1a7d6c-f2a8-48a9-be6c-72f58078396e"
      },
      "execution_count": 1,
      "outputs": [
        {
          "output_type": "stream",
          "name": "stdout",
          "text": [
            "3.1  !=  3.0\n",
            "3.0100000000000002  !=  3.0\n",
            "3.0010000000000003  !=  3.0\n",
            "3.0001  !=  3.0\n",
            "3.00001  !=  3.0\n",
            "3.000001  !=  3.0\n",
            "3.0000001000000003  !=  3.0\n",
            "3.0000000100000004  !=  3.0\n",
            "3.0000000010000005  !=  3.0\n",
            "3.0000000001000005  !=  3.0\n",
            "3.0000000000100004  !=  3.0\n",
            "3.0000000000010005  !=  3.0\n",
            "3.0000000000001004  !=  3.0\n",
            "3.00000000000001  !=  3.0\n",
            "3.0000000000000013  !=  3.0\n",
            "3.0000000000000004  !=  3.0\n",
            "-16\n"
          ]
        }
      ]
    },
    {
      "cell_type": "markdown",
      "source": [
        "Giải thích bài tập 1\n",
        "\n",
        "Dòng 1: Gán giá trị a cho 3.1\n",
        "Dòng 2: Gán giá trị b cho 3.0\n",
        "Dòng 3: Gán giá trị i cho -1\n",
        "Dòng 4,5,6: Dùng vòng lập While để in và chạy theo công thức giá trị a mới bằng giá trị a-0.9*10**(i) trong đó giá trị i giảm đi 1 đơn vị thì kết quả sẽ tăng lên 1 số 0\n",
        "Dòng 7,8,9: Nếu giá trị a mới khác với a ban đầu trả tiếp tục giảm i 1 đơn vị cho đến khi kết quả máy cho ra giá trị a= với giá trị b\n",
        "Kết quả : nếu giá trị i = -16 (3.00000000000000001) thì máy sẽ cho ra a = b là True .Kết thúc\n",
        "# 3.00000000000000001==3.00000000000000000\n",
        "True"
      ],
      "metadata": {
        "id": "Z2dm-7N5kDEi"
      }
    },
    {
      "cell_type": "markdown",
      "source": [
        "Bài tập 2"
      ],
      "metadata": {
        "id": "83-tk4aFkGCD"
      }
    },
    {
      "cell_type": "code",
      "source": [
        "a = True\n",
        "b = False\n",
        "1/0\n",
        "if (a==b) and (1/0>0):\n",
        "  print(\"a=b\")\n",
        "else:\n",
        "  print(\"a khác b\")"
      ],
      "metadata": {
        "id": "Vr9Si3VlkKzg"
      },
      "execution_count": null,
      "outputs": []
    },
    {
      "cell_type": "markdown",
      "source": [
        "Kết quả câu lệnh if là: Vì 1/0 là vô nghĩa.Xảy ra lỗi và không thực hiện câu lệnh"
      ],
      "metadata": {
        "id": "YAUI6SSkkcr5"
      }
    },
    {
      "cell_type": "code",
      "source": [
        "a = True\n",
        "b = False\n",
        "if (a==b) and (1/0>0):\n",
        "  print(\"a=b\")\n",
        "else:\n",
        "  print(\"a khác b\")"
      ],
      "metadata": {
        "id": "dWc7-yiMkgs7"
      },
      "execution_count": null,
      "outputs": []
    },
    {
      "cell_type": "markdown",
      "source": [
        "a khác b\n",
        "Kết quả cho ra là: a khác b vì trong câu lệnh and xét hai điều kiện nhưng điều kiện đầu sai a khác b (True khác False), nên máy đã đưa ra đáp án là a khác b và bỏ qua các phép tính sau không cần thiết"
      ],
      "metadata": {
        "id": "tKAHxejpkmIf"
      }
    },
    {
      "cell_type": "markdown",
      "source": [
        "Bài tập chương 2"
      ],
      "metadata": {
        "id": "mX1f1kzuk5RX"
      }
    },
    {
      "cell_type": "markdown",
      "source": [
        "Bài 1"
      ],
      "metadata": {
        "id": "Y0ru3iKClGOR"
      }
    },
    {
      "cell_type": "code",
      "source": [
        "from pylab import plot, show\n",
        "rain_day = [2.4, 1.0, 1.9, 5.4, 17.8, 19.0, 22.9, 22.4, 23.1, 20.9, 12.1, 6.7]\n",
        "months = range(1,13)\n",
        "plot(months, rain_day, marker='o', color='r')\n",
        "show()"
      ],
      "metadata": {
        "colab": {
          "base_uri": "https://localhost:8080/",
          "height": 265
        },
        "id": "YUqdKnSalHSN",
        "outputId": "279bd2b4-af62-4312-aa56-fc704aa24bee"
      },
      "execution_count": 5,
      "outputs": [
        {
          "output_type": "display_data",
          "data": {
            "text/plain": [
              "<Figure size 432x288 with 1 Axes>"
            ],
            "image/png": "[encoded data removed]"
          },
          "metadata": {
            "needs_background": "light"
          }
        }
      ]
    },
    {
      "cell_type": "code",
      "source": [
        "Average_hours_of_sunshine = [245, 246, 272, 239, 195, 171, 180, 172, 162, 182, 200, 226]\n",
        "months = range(1,13)\n",
        "plot(months, Average_hours_of_sunshine, marker='o', color='g')\n",
        "show()"
      ],
      "metadata": {
        "colab": {
          "base_uri": "https://localhost:8080/",
          "height": 265
        },
        "id": "Mf0nvTnKlJsx",
        "outputId": "32e7ba2a-b8da-45ee-9c7b-61bdc153bf5d"
      },
      "execution_count": 6,
      "outputs": [
        {
          "output_type": "display_data",
          "data": {
            "text/plain": [
              "<Figure size 432x288 with 1 Axes>"
            ],
            "image/png": "[encoded data removed]"
          },
          "metadata": {
            "needs_background": "light"
          }
        }
      ]
    },
    {
      "cell_type": "markdown",
      "source": [
        "Bài 2"
      ],
      "metadata": {
        "id": "8v9HzNNYlPME"
      }
    },
    {
      "cell_type": "code",
      "source": [
        "from sympy import Symbol, Derivative\n",
        "x = Symbol('x')\n",
        "st = x**4 - 4*x**2 + x - 1\n",
        "Derivative(st,x).doit()"
      ],
      "metadata": {
        "id": "cH_BlfRIlQvC"
      },
      "execution_count": null,
      "outputs": []
    },
    {
      "cell_type": "code",
      "source": [
        "from sympy import Symbol, Derivative\n",
        "t = Symbol('t')\n",
        "st = 3*t**4 + 6*t + 17\n",
        "Derivative(st,t).doit()"
      ],
      "metadata": {
        "id": "o7hufED0lTi1"
      },
      "execution_count": null,
      "outputs": []
    },
    {
      "cell_type": "code",
      "source": [
        "from sympy import Symbol, Derivative\n",
        "t = Symbol('t')\n",
        "st = 5*t**2 + 2*t + 8\n",
        "Derivative(st,t).doit()\n"
      ],
      "metadata": {
        "id": "Od8AW8E8lXjU"
      },
      "execution_count": null,
      "outputs": []
    },
    {
      "cell_type": "code",
      "source": [
        "from sympy import Symbol, Derivative\n",
        "x = Symbol('x')\n",
        "f = x**2 - 8*x + 9\n",
        "Derivative(f,x).doit()"
      ],
      "metadata": {
        "id": "dYmgjM1AlYH1"
      },
      "execution_count": null,
      "outputs": []
    },
    {
      "cell_type": "code",
      "source": [
        "from sympy import Symbol, Derivative\n",
        "x = Symbol('x')\n",
        "f = (1 - x) / (2 + x)\n",
        "Derivative(f,x).doit()"
      ],
      "metadata": {
        "id": "P07EapBylYSd"
      },
      "execution_count": null,
      "outputs": []
    },
    {
      "cell_type": "code",
      "source": [
        "from sympy import Symbol, Derivative\n",
        "x = Symbol('x')\n",
        "f = (5 - 2*x) / (7 + 4*x)\n",
        "Derivative(f,x).doit()"
      ],
      "metadata": {
        "id": "_wnpkK5slYZq"
      },
      "execution_count": null,
      "outputs": []
    },
    {
      "cell_type": "code",
      "source": [
        "from sympy import Symbol, Derivative\n",
        "x = Symbol(\"x\")\n",
        "f = x**3 - x\n",
        "Derivative(f,x).doit()"
      ],
      "metadata": {
        "id": "kOITz_pmlfsN"
      },
      "execution_count": null,
      "outputs": []
    },
    {
      "cell_type": "code",
      "source": [
        "from sympy import Symbol, Derivative\n",
        "x = Symbol(\"x\")\n",
        "f = 3 / (x**2 + 2*x -1)**3\n",
        "Derivative(f,x).doit()"
      ],
      "metadata": {
        "id": "inJ510IAliFH"
      },
      "execution_count": null,
      "outputs": []
    },
    {
      "cell_type": "code",
      "source": [
        "from sympy import Symbol, Derivative\n",
        "import sympy\n",
        "x = Symbol('x')\n",
        "f = sympy.sin(x)*sympy.cos(x)\n",
        "Derivative(f,x).doit()"
      ],
      "metadata": {
        "id": "yQkfMnkglkTM"
      },
      "execution_count": null,
      "outputs": []
    },
    {
      "cell_type": "code",
      "source": [
        "from sympy import Symbol, Derivative\n",
        "import sympy\n",
        "x = Symbol('x')\n",
        "f = sympy.sin(5*x)*sympy.cos(3*x)+sympy.sin(3*x)*sympy.cos(5*x)\n",
        "Derivative(f,x).doit()"
      ],
      "metadata": {
        "id": "jt9Wz1nFlopP"
      },
      "execution_count": null,
      "outputs": []
    },
    {
      "cell_type": "markdown",
      "source": [
        "Bài tập chương 3"
      ],
      "metadata": {
        "id": "xMTs-ebXlr9m"
      }
    },
    {
      "cell_type": "markdown",
      "source": [
        "Bài 1"
      ],
      "metadata": {
        "id": "4f6hXsKGlvEz"
      }
    },
    {
      "cell_type": "code",
      "source": [
        "from matplotlib import pyplot as plt\n",
        "import math\n",
        "def draw_graph(x,y):\n",
        "  plt.plot(x,y)\n",
        "  plt.xlabel(\"Truc X\")\n",
        "  plt.ylabel('Truc Y')\n",
        "  plt.title('Do thi nem vat the voi cac goc ban ban dau khac nhau, van toc khong doi')"
      ],
      "metadata": {
        "id": "YMm9-w4-lwdn"
      },
      "execution_count": 7,
      "outputs": []
    },
    {
      "cell_type": "code",
      "source": [
        "def frange(start, final, interval):\n",
        "  numbers = []\n",
        "  while start < final:\n",
        "    numbers.append(start)\n",
        "    start += interval\n",
        "  return numbers"
      ],
      "metadata": {
        "id": "mExAi8QMmAb0"
      },
      "execution_count": 8,
      "outputs": []
    },
    {
      "cell_type": "code",
      "source": [
        "def draw_trajectory(u, theta):\n",
        "  # Gia toc trong truong\n",
        "  g = 9.8\n",
        "  # Goc bay:\n",
        "  theta = math.radians(theta)\n",
        "  # Thoi gian bay:\n",
        "  t_flight = 2*u*math.sin(theta)/g\n",
        "  # Tinh toan khoang cach thoi gian\n",
        "  intervals = frange(0, t_flight, 0.001)\n",
        "  # Danh sach toa do x va y\n",
        "  x = []\n",
        "  y = []\n",
        "  for t in intervals:\n",
        "    x.append(u*math.cos(theta)*t)\n",
        "    y.append(u*math.sin(theta)*t - 0.5*g*t*t)\n",
        "  draw_graph(x, y)"
      ],
      "metadata": {
        "id": "ne9fAKpOmCmz"
      },
      "execution_count": 9,
      "outputs": []
    },
    {
      "cell_type": "code",
      "source": [
        "try:\n",
        "  u = float(input('Nhap van toc ban dau (m/s): '))\n",
        "  theta = float(input('nhap goc ban dau: '))\n",
        "except ValueError:\n",
        "  print (' Nhap cac gia tri sai! ')\n",
        "else:\n",
        "  draw_trajectory(u, theta)\n",
        "  plt.show()\n",
        "finally:\n",
        "  print ('Hoan thanh chuong trinh!')"
      ],
      "metadata": {
        "colab": {
          "base_uri": "https://localhost:8080/",
          "height": 348
        },
        "id": "nDIRd4mTmGOD",
        "outputId": "82892466-c2ae-4b0a-e73a-5050b6e7b658"
      },
      "execution_count": 10,
      "outputs": [
        {
          "name": "stdout",
          "output_type": "stream",
          "text": [
            "Nhap van toc ban dau (m/s): 35\n",
            "nhap goc ban dau: 30\n"
          ]
        },
        {
          "output_type": "display_data",
          "data": {
            "text/plain": [
              "<Figure size 432x288 with 1 Axes>"
            ],
            "image/png": "[encoded data removed]"
          },
          "metadata": {
            "needs_background": "light"
          }
        },
        {
          "output_type": "stream",
          "name": "stdout",
          "text": [
            "Hoan thanh chuong trinh!\n"
          ]
        }
      ]
    },
    {
      "cell_type": "markdown",
      "source": [
        "Bài 2"
      ],
      "metadata": {
        "id": "hWgZ0l8UmOxh"
      }
    },
    {
      "cell_type": "code",
      "source": [
        "from matplotlib import pyplot as plt\n",
        "import math\n",
        "def draw_graph(x,y):\n",
        "  plt.plot(x,y)\n",
        "  plt.xlabel('Trục X')\n",
        "  plt.ylabel('Trục Y')\n",
        "  plt.title('Do thi dinh luat hap dan Newton giua hai vat the')"
      ],
      "metadata": {
        "id": "8AGVeatjmUkJ"
      },
      "execution_count": null,
      "outputs": []
    },
    {
      "cell_type": "code",
      "source": [
        "def frange(begin, end, inter):\n",
        "  number = []\n",
        "  while begin < end:\n",
        "    number.append(begin)\n",
        "    begin += inter\n",
        "  return number"
      ],
      "metadata": {
        "id": "e40heQOvmVJn"
      },
      "execution_count": null,
      "outputs": []
    },
    {
      "cell_type": "code",
      "source": [
        "def draw_trajectory(r,F):\n",
        "  inter = frange(100, 1001, 50)\n",
        "  x = []\n",
        "  y = []\n",
        "  for c in inter:\n",
        "    r += 50\n",
        "    x.append(r)\n",
        "    y.append(G*m1*m2/(r**2))\n",
        "  draw_graph(x,y)\n",
        "try:\n",
        "  r = float(input('nhap khoang cach r: '))\n",
        "  G = 6.674e-11\n",
        "  m1 = float(input('nhap gia m1: '))\n",
        "  m2 = float(input('nhap gia m2: '))\n",
        "  F = (G*m1*m2)/(r*r)\n",
        "except ValueError:\n",
        "  print('Nhap cac gia tri sai! ')\n",
        "else:\n",
        "  draw_trajectory(r,F)\n",
        "  plt.show()\n",
        "finally:\n",
        "  print('Hoan thanh chuong trinh!')"
      ],
      "metadata": {
        "colab": {
          "base_uri": "https://localhost:8080/",
          "height": 366
        },
        "id": "cWBMrJbumXWz",
        "outputId": "aa0ce000-4d36-4a46-da03-95efb9b06aad"
      },
      "execution_count": 11,
      "outputs": [
        {
          "name": "stdout",
          "output_type": "stream",
          "text": [
            "nhap khoang cach r: 10\n",
            "nhap gia m1: 1\n",
            "nhap gia m2: 2\n"
          ]
        },
        {
          "output_type": "display_data",
          "data": {
            "text/plain": [
              "<Figure size 432x288 with 1 Axes>"
            ],
            "image/png": "[encoded data removed]"
          },
          "metadata": {
            "needs_background": "light"
          }
        },
        {
          "output_type": "stream",
          "name": "stdout",
          "text": [
            "Hoan thanh chuong trinh!\n"
          ]
        }
      ]
    },
    {
      "cell_type": "markdown",
      "source": [
        "Bài tập chương 4"
      ],
      "metadata": {
        "id": "Ha5TsVTLmfPH"
      }
    },
    {
      "cell_type": "markdown",
      "source": [
        "Bài 1 Đọc tài liệu:\n",
        "\n",
        "Thực hiện một biểu thức toán học f(x), giới hạn của tích phân x1, x2 Sử dụng sympy.integrate(y, x) để kiểm tra xem nó có giải pháp phân tích/tượng trưng hay không, nếu có thì trả về kết quả bằng cách sử dụng sympy.integrate(y, (x,x1,x2).evalf()) Nếu nó không có giải pháp phân tích sympy thì nó sử dụng scipy.integrate.quad hoặc các hàm số khác để tính tích phân. Với phương pháp này, nó có thể sẽ nhanh hơn và chính xác hơn vì phần lớn các biểu thức toán học tôi đang làm đều có tích phân giải tích."
      ],
      "metadata": {
        "id": "rXCLfqqbnTBk"
      }
    },
    {
      "cell_type": "markdown",
      "source": [
        "Bài 2 Đọc tài liệu: \n",
        "Trong logic toán học và khoa học máy tính, phép tính lambda (tiếng Anh: lambda calculus): là một hệ thống hình thức dùng trong việc định nghĩa hàm số, ứng dụng hàm số và đệ quy. Phép tính lambda được Alonzo Church đề xuất vào những năm 193x như là một phần của một nghiên cứu về các nền tảng toán học. Hệ thống nguyên thủy đã được chứng minh là xung khắc logic vào năm 1935 khi Stephen Kleene và J. B. Rosser phát triển nghịch lý Kleene–Rosser. Phép tính lambda sau đó đã được phát triển để trở thành một công cụ quan trọng trong việc nghiên cứu các vấn đề lý thuyết tính toán và lý thuyết đệ quy, và hình thành nên nền tảng cơ bản của mô hình lập trình hàm."
      ],
      "metadata": {
        "id": "lPrMtgtKnZmO"
      }
    },
    {
      "cell_type": "markdown",
      "source": [
        "Bài tập chương 5"
      ],
      "metadata": {
        "id": "aJiHZrK5npFX"
      }
    },
    {
      "cell_type": "markdown",
      "source": [
        "Bài 1"
      ],
      "metadata": {
        "id": "1_yAWrKQos0a"
      }
    },
    {
      "cell_type": "code",
      "source": [
        "from sympy import Symbol, Derivative, solve\n",
        "x = Symbol('x') # chieu rong hinh chu nhat\n",
        "y = Symbol('y') # chieu dai hinh chu nhat\n",
        "# S = 100(bd)\n",
        "S = x*y\n",
        "y = 100/x"
      ],
      "metadata": {
        "id": "MAHVTkn9nuBn"
      },
      "execution_count": null,
      "outputs": []
    },
    {
      "cell_type": "code",
      "source": [
        "P = 2*(x+ y)\n",
        "P"
      ],
      "metadata": {
        "id": "CmW-tfIbouuG"
      },
      "execution_count": null,
      "outputs": []
    },
    {
      "cell_type": "code",
      "source": [
        "d1 = Derivative(P, x).doit()\n",
        "d1"
      ],
      "metadata": {
        "id": "TQzAb--Row25"
      },
      "execution_count": null,
      "outputs": []
    },
    {
      "cell_type": "code",
      "source": [
        "A = solve(d1)\n",
        "A"
      ],
      "metadata": {
        "id": "uGNYvIfToyzH"
      },
      "execution_count": null,
      "outputs": []
    },
    {
      "cell_type": "markdown",
      "source": [
        "Vì = f(x) xác định trên khoảng (0, ∞) nên không có giá trị tới hạn nào khác và cũng không có các điểm đầu mút. Liệu có cực tiểu, cực đại địa phương hay không tại x = 10."
      ],
      "metadata": {
        "id": "7fXn8g1Po0dv"
      }
    },
    {
      "cell_type": "code",
      "source": [
        "nghiem = A[1]\n",
        "nghiem"
      ],
      "metadata": {
        "id": "u1V81FRJo21B"
      },
      "execution_count": null,
      "outputs": []
    },
    {
      "cell_type": "code",
      "source": [
        "d2 = Derivative(d1,x).doit()\n",
        "d2"
      ],
      "metadata": {
        "id": "nSq0-p2go5Op"
      },
      "execution_count": null,
      "outputs": []
    },
    {
      "cell_type": "code",
      "source": [
        "d2.subs({x:10}).evalf()"
      ],
      "metadata": {
        "id": "EUYbgCKNo7QY"
      },
      "execution_count": null,
      "outputs": []
    },
    {
      "cell_type": "markdown",
      "source": [
        "d2 > 0. Do đó, có một giá trị cực tiểu địa phương. Do chỉ có một giá trị tới hạn duy nhất, nên đây cũng là cực tiểu toàn cục.\n",
        "Như vậy, hình chữ nhật có diện tích 100m2 thì hình vuông 10x10 là hình có chu vi nhỏ nhất."
      ],
      "metadata": {
        "id": "6Edqlvfoo_qI"
      }
    },
    {
      "cell_type": "code",
      "source": [
        "P_min_v = P\n",
        "P_min_v.subs({x:10}).evalf()"
      ],
      "metadata": {
        "id": "og_s02mKpAOz"
      },
      "execution_count": null,
      "outputs": []
    },
    {
      "cell_type": "markdown",
      "source": [
        "Bài 2"
      ],
      "metadata": {
        "id": "jSJf5sRApG2F"
      }
    },
    {
      "cell_type": "code",
      "source": [
        "from sympy import Symbol, Derivative, solve, Integral\n",
        "from math import *\n",
        "x = Symbol('x') \n",
        "y = Symbol('y')\n",
        "w = Symbol('w')\n",
        "v = Symbol('v')\n",
        "a = Symbol('a')\n",
        "b = Symbol('b')"
      ],
      "metadata": {
        "id": "2t2RNG7BpRjH"
      },
      "execution_count": 12,
      "outputs": []
    }
  ]
}