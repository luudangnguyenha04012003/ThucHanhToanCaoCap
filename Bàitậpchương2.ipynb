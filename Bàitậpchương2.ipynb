{
  "nbformat": 4,
  "nbformat_minor": 0,
  "metadata": {
    "colab": {
      "name": "Bài tập chương 2.ipynb",
      "provenance": [],
      "authorship_tag": "ABX9TyODPPVHc8ytE4GBu0ToEwGK",
      "include_colab_link": true
    },
    "kernelspec": {
      "name": "python3",
      "display_name": "Python 3"
    },
    "language_info": {
      "name": "python"
    }
  },
  "cells": [
    {
      "cell_type": "markdown",
      "metadata": {
        "id": "view-in-github",
        "colab_type": "text"
      },
      "source": [
        "<a href=\"https://colab.research.google.com/github/luudangnguyenha04012003/ThucHanhToanCaoCap/blob/main/B%C3%A0it%E1%BA%ADpch%C6%B0%C6%A1ng2.ipynb\" target=\"_parent\"><img src=\"https://colab.research.google.com/assets/colab-badge.svg\" alt=\"Open In Colab\"/></a>"
      ]
    },
    {
      "cell_type": "markdown",
      "source": [
        "Thực hành 1"
      ],
      "metadata": {
        "id": "Bw-W6lQVYI90"
      }
    },
    {
      "cell_type": "code",
      "source": [
        "chuoitinhtoan = \"a*b+c\"\n",
        "a = 2\n",
        "b = 5\n",
        "c = 8\n",
        "eval(chuoitinhtoan)"
      ],
      "metadata": {
        "colab": {
          "base_uri": "https://localhost:8080/"
        },
        "id": "bl1iJvTcYNZJ",
        "outputId": "2b7caf68-8837-4ed3-d7e4-139f84476e85"
      },
      "execution_count": null,
      "outputs": [
        {
          "output_type": "execute_result",
          "data": {
            "text/plain": [
              "18"
            ]
          },
          "metadata": {},
          "execution_count": 9
        }
      ]
    },
    {
      "cell_type": "markdown",
      "source": [
        "Thực hành 2"
      ],
      "metadata": {
        "id": "twWShQKqYk1c"
      }
    },
    {
      "cell_type": "code",
      "source": [
        "from sympy import Symbol\n",
        "x = Symbol('x')\n",
        "y = Symbol('y')\n",
        "bieuthuc = x+y\n",
        "thaytheso = bieuthuc.subs({x:10,y:5})\n",
        "thaytheso\n"
      ],
      "metadata": {
        "colab": {
          "base_uri": "https://localhost:8080/",
          "height": 37
        },
        "id": "POj7iH0MaZ2z",
        "outputId": "b6d83f54-7c6d-4e9f-fa8d-dae87b687950"
      },
      "execution_count": null,
      "outputs": [
        {
          "output_type": "execute_result",
          "data": {
            "text/latex": "$\\displaystyle 15$",
            "text/plain": [
              "15"
            ]
          },
          "metadata": {},
          "execution_count": 10
        }
      ]
    },
    {
      "cell_type": "code",
      "source": [
        "u = Symbol('u')\n",
        "v = Symbol('v')\n",
        "bieuthuc_theo_uv = bieuthuc.subs({x:u,y:v})\n",
        "bieuthuc_theo_uv"
      ],
      "metadata": {
        "colab": {
          "base_uri": "https://localhost:8080/",
          "height": 38
        },
        "id": "1FfOjqFbbQ0S",
        "outputId": "ebb1072e-5870-43db-c841-4c8c21e63ae8"
      },
      "execution_count": null,
      "outputs": [
        {
          "output_type": "execute_result",
          "data": {
            "text/latex": "$\\displaystyle u + v$",
            "text/plain": [
              "u + v"
            ]
          },
          "metadata": {},
          "execution_count": 11
        }
      ]
    },
    {
      "cell_type": "code",
      "source": [
        "thaythe_tinhtoan = bieuthuc.subs({x:2*u*v,y:u**2+v**2})\n",
        "thaythe_tinhtoan"
      ],
      "metadata": {
        "colab": {
          "base_uri": "https://localhost:8080/",
          "height": 38
        },
        "id": "UDTcHnqxbvRC",
        "outputId": "e2e48d4e-1e10-4583-ef5d-ff862491bc02"
      },
      "execution_count": null,
      "outputs": [
        {
          "output_type": "execute_result",
          "data": {
            "text/latex": "$\\displaystyle u^{2} + 2 u v + v^{2}$",
            "text/plain": [
              "u**2 + 2*u*v + v**2"
            ]
          },
          "metadata": {},
          "execution_count": 12
        }
      ]
    },
    {
      "cell_type": "code",
      "source": [
        "u**2+2*u*v+v**2\n",
        "thaythe_tinhtoan.factor()"
      ],
      "metadata": {
        "colab": {
          "base_uri": "https://localhost:8080/",
          "height": 39
        },
        "id": "StrsVDbndnR8",
        "outputId": "3435b256-5f71-4714-c130-be5f016247a3"
      },
      "execution_count": null,
      "outputs": [
        {
          "output_type": "execute_result",
          "data": {
            "text/latex": "$\\displaystyle \\left(u + v\\right)^{2}$",
            "text/plain": [
              "(u + v)**2"
            ]
          },
          "metadata": {},
          "execution_count": 13
        }
      ]
    },
    {
      "cell_type": "code",
      "source": [
        "from sympy import Symbol, sin, cos\n",
        "x = Symbol('x')\n",
        "y = Symbol('y')\n",
        "bieuthuc=x+y\n",
        "bieuthuc2 = x**2+y**2\n",
        "u = Symbol('u')\n",
        "v = Symbol('v')\n",
        "s = Symbol('a')\n",
        "bieuthuc_theo_uv = bieuthuc2.subs({x:a*sin(u),y:a*cos(u)})\n",
        "bieuthuc_theo_uv"
      ],
      "metadata": {
        "colab": {
          "base_uri": "https://localhost:8080/",
          "height": 38
        },
        "id": "VHgG5eXhcSQZ",
        "outputId": "f94ed947-acef-4a3a-d173-7633262655ed"
      },
      "execution_count": null,
      "outputs": [
        {
          "output_type": "execute_result",
          "data": {
            "text/latex": "$\\displaystyle 4 \\sin^{2}{\\left(u \\right)} + 4 \\cos^{2}{\\left(u \\right)}$",
            "text/plain": [
              "4*sin(u)**2 + 4*cos(u)**2"
            ]
          },
          "metadata": {},
          "execution_count": 14
        }
      ]
    },
    {
      "cell_type": "code",
      "source": [
        "bieuthuc_theo_uv.simplify()"
      ],
      "metadata": {
        "colab": {
          "base_uri": "https://localhost:8080/",
          "height": 37
        },
        "id": "zPPQ6yaSdD5t",
        "outputId": "1744ffeb-4660-40c3-cfa2-c33dee3a2c93"
      },
      "execution_count": null,
      "outputs": [
        {
          "output_type": "execute_result",
          "data": {
            "text/latex": "$\\displaystyle 4$",
            "text/plain": [
              "4"
            ]
          },
          "metadata": {},
          "execution_count": 15
        }
      ]
    },
    {
      "cell_type": "markdown",
      "source": [
        "Thực hành 3"
      ],
      "metadata": {
        "id": "jLYgFkGhdrYM"
      }
    },
    {
      "cell_type": "code",
      "source": [
        "danhsach_so = [10,15,20]"
      ],
      "metadata": {
        "id": "IMEIPbC5du3F"
      },
      "execution_count": null,
      "outputs": []
    },
    {
      "cell_type": "code",
      "source": [
        "danhsach_so[0]"
      ],
      "metadata": {
        "colab": {
          "base_uri": "https://localhost:8080/"
        },
        "id": "Pr9j1aOZeBOM",
        "outputId": "833f6feb-833b-40e9-d0cc-891cc730808b"
      },
      "execution_count": null,
      "outputs": [
        {
          "output_type": "execute_result",
          "data": {
            "text/plain": [
              "10"
            ]
          },
          "metadata": {},
          "execution_count": 17
        }
      ]
    },
    {
      "cell_type": "code",
      "source": [
        "danhsach_so[1]"
      ],
      "metadata": {
        "colab": {
          "base_uri": "https://localhost:8080/"
        },
        "id": "5XGe1yLVfgoZ",
        "outputId": "9b84ceaf-498e-4512-c9a0-2d62ff0a1f81"
      },
      "execution_count": null,
      "outputs": [
        {
          "output_type": "execute_result",
          "data": {
            "text/plain": [
              "15"
            ]
          },
          "metadata": {},
          "execution_count": 18
        }
      ]
    },
    {
      "cell_type": "code",
      "source": [
        "danhsach_so[2]"
      ],
      "metadata": {
        "colab": {
          "base_uri": "https://localhost:8080/"
        },
        "id": "EEn5-Fk9fjSE",
        "outputId": "6fe971df-62a1-4ec9-d5de-f2f027c6c22e"
      },
      "execution_count": null,
      "outputs": [
        {
          "output_type": "execute_result",
          "data": {
            "text/plain": [
              "20"
            ]
          },
          "metadata": {},
          "execution_count": 19
        }
      ]
    },
    {
      "cell_type": "markdown",
      "source": [
        "Thực hành 4"
      ],
      "metadata": {
        "id": "OQs1TEWGfl-x"
      }
    },
    {
      "cell_type": "code",
      "source": [
        "ds = [1,2,3]\n",
        "for so in ds:\n",
        "  print(so)"
      ],
      "metadata": {
        "colab": {
          "base_uri": "https://localhost:8080/"
        },
        "id": "MUGvTXd3frIJ",
        "outputId": "43a91d41-fd66-4d86-d686-0958e0a95e0f"
      },
      "execution_count": null,
      "outputs": [
        {
          "output_type": "stream",
          "name": "stdout",
          "text": [
            "1\n",
            "2\n",
            "3\n"
          ]
        }
      ]
    },
    {
      "cell_type": "code",
      "source": [
        "ds = [10,11,12]\n",
        "for chiso, giaitri in enumerate(ds):\n",
        "  print(chiso, giaitri)"
      ],
      "metadata": {
        "colab": {
          "base_uri": "https://localhost:8080/"
        },
        "id": "wc28mLstgDcI",
        "outputId": "b7e5049a-7f28-4417-952b-265d40dacc7a"
      },
      "execution_count": null,
      "outputs": [
        {
          "output_type": "stream",
          "name": "stdout",
          "text": [
            "0 10\n",
            "1 11\n",
            "2 12\n"
          ]
        }
      ]
    },
    {
      "cell_type": "markdown",
      "source": [
        "Thực hành 5"
      ],
      "metadata": {
        "id": "I3B3WlBbgHW-"
      }
    },
    {
      "cell_type": "code",
      "source": [
        "x_numbers = [1,6,8]\n",
        "y_numbers = [2,5,9]\n",
        "from pylab import plot, show\n",
        "plot(x_numbers, y_numbers)\n",
        "show()"
      ],
      "metadata": {
        "colab": {
          "base_uri": "https://localhost:8080/",
          "height": 265
        },
        "id": "4DFFwNpugJhi",
        "outputId": "99e71dfb-28b2-4054-c162-a167ce87d4b1"
      },
      "execution_count": null,
      "outputs": [
        {
          "output_type": "display_data",
          "data": {
            "image/png": "[encoded data removed]",
            "text/plain": [
              "<Figure size 432x288 with 1 Axes>"
            ]
          },
          "metadata": {
            "needs_background": "light"
          }
        }
      ]
    },
    {
      "cell_type": "markdown",
      "source": [
        "Thực hành 6"
      ],
      "metadata": {
        "id": "qz3PAmv5gbE0"
      }
    },
    {
      "cell_type": "code",
      "source": [
        "from pylab import plot, show\n",
        "x_numbers = [1,6,8]\n",
        "y_numbers = [2,5,9]\n",
        "plot(x_numbers, y_numbers, marker='o', color='c')\n",
        "show()"
      ],
      "metadata": {
        "colab": {
          "base_uri": "https://localhost:8080/",
          "height": 265
        },
        "id": "HCDnHPyfggyi",
        "outputId": "fb414ec9-cfaa-481a-9bf6-aebbdf5de068"
      },
      "execution_count": null,
      "outputs": [
        {
          "output_type": "display_data",
          "data": {
            "image/png": "[encoded data removed]",
            "text/plain": [
              "<Figure size 432x288 with 1 Axes>"
            ]
          },
          "metadata": {
            "needs_background": "light"
          }
        }
      ]
    },
    {
      "cell_type": "code",
      "source": [
        "from pylab import plot, show\n",
        "plot(x_numbers, y_numbers, marker='c')\n",
        "show()"
      ],
      "metadata": {
        "colab": {
          "base_uri": "https://localhost:8080/",
          "height": 201
        },
        "id": "MiEz5lCkg8Zy",
        "outputId": "3b58f162-acfe-42e9-a8a9-a707112de3da"
      },
      "execution_count": 18,
      "outputs": [
        {
          "output_type": "error",
          "ename": "NameError",
          "evalue": "ignored",
          "traceback": [
            "\u001b[0;31m---------------------------------------------------------------------------\u001b[0m",
            "\u001b[0;31mNameError\u001b[0m                                 Traceback (most recent call last)",
            "\u001b[0;32m<ipython-input-18-abce433ca570>\u001b[0m in \u001b[0;36m<module>\u001b[0;34m()\u001b[0m\n\u001b[1;32m      1\u001b[0m \u001b[0;32mfrom\u001b[0m \u001b[0mpylab\u001b[0m \u001b[0;32mimport\u001b[0m \u001b[0mplot\u001b[0m\u001b[0;34m,\u001b[0m \u001b[0mshow\u001b[0m\u001b[0;34m\u001b[0m\u001b[0;34m\u001b[0m\u001b[0m\n\u001b[0;32m----> 2\u001b[0;31m \u001b[0mplot\u001b[0m\u001b[0;34m(\u001b[0m\u001b[0mx_numbers\u001b[0m\u001b[0;34m,\u001b[0m \u001b[0my_numbers\u001b[0m\u001b[0;34m,\u001b[0m \u001b[0mmarker\u001b[0m\u001b[0;34m=\u001b[0m\u001b[0;34m'c'\u001b[0m\u001b[0;34m)\u001b[0m\u001b[0;34m\u001b[0m\u001b[0;34m\u001b[0m\u001b[0m\n\u001b[0m\u001b[1;32m      3\u001b[0m \u001b[0mshow\u001b[0m\u001b[0;34m(\u001b[0m\u001b[0;34m)\u001b[0m\u001b[0;34m\u001b[0m\u001b[0;34m\u001b[0m\u001b[0m\n",
            "\u001b[0;31mNameError\u001b[0m: name 'x_numbers' is not defined"
          ]
        }
      ]
    },
    {
      "cell_type": "markdown",
      "source": [
        "Không phải mọi kí tự đều được xem là marker. c không phải marker"
      ],
      "metadata": {
        "id": "5g_NyyuwhacE"
      }
    },
    {
      "cell_type": "markdown",
      "source": [
        "Thực hành 7"
      ],
      "metadata": {
        "id": "elrODAqOht6-"
      }
    },
    {
      "cell_type": "code",
      "source": [
        "from pylab import plot, show\n",
        "hcm_rain = [13.8, 4.1, 10.5, 50.4, 218.4, 311.7, 293.7, 269.8, 327.1, 266.7, 116.5, 48.3]\n",
        "months = range(1,13)\n",
        "plot(months, hcm_rain, marker='o', color='g')\n",
        "show()"
      ],
      "metadata": {
        "colab": {
          "base_uri": "https://localhost:8080/",
          "height": 265
        },
        "id": "y0ROssBvhwD-",
        "outputId": "4d8ba5d4-0423-44f4-f77d-f6d847585120"
      },
      "execution_count": null,
      "outputs": [
        {
          "output_type": "display_data",
          "data": {
            "image/png": "[encoded data removed]",
            "text/plain": [
              "<Figure size 432x288 with 1 Axes>"
            ]
          },
          "metadata": {
            "needs_background": "light"
          }
        }
      ]
    },
    {
      "cell_type": "markdown",
      "source": [
        "Thực hành 8"
      ],
      "metadata": {
        "id": "dvgfEmhgh64c"
      }
    },
    {
      "cell_type": "code",
      "source": [
        "from sympy import Symbol, Derivative\n",
        "t = Symbol('t')\n",
        "st = 5*t**2+2*t+8\n",
        "Derivative(st,t)"
      ],
      "metadata": {
        "colab": {
          "base_uri": "https://localhost:8080/",
          "height": 52
        },
        "id": "883iHHGuh-e_",
        "outputId": "546e34a1-e93c-430e-9dd7-da73100e2eb8"
      },
      "execution_count": 19,
      "outputs": [
        {
          "output_type": "execute_result",
          "data": {
            "text/latex": "$\\displaystyle \\frac{d}{d t} \\left(5 t^{2} + 2 t + 8\\right)$",
            "text/plain": [
              "Derivative(5*t**2 + 2*t + 8, t)"
            ]
          },
          "metadata": {},
          "execution_count": 19
        }
      ]
    },
    {
      "cell_type": "code",
      "source": [
        "d = Derivative(st,t)\n",
        "d.doit()"
      ],
      "metadata": {
        "colab": {
          "base_uri": "https://localhost:8080/",
          "height": 38
        },
        "id": "drDrb7LRiKat",
        "outputId": "e08d57f8-cf43-4c63-98f7-cde1b07c7fa5"
      },
      "execution_count": null,
      "outputs": [
        {
          "output_type": "execute_result",
          "data": {
            "text/latex": "$\\displaystyle 10 t + 2$",
            "text/plain": [
              "10*t + 2"
            ]
          },
          "metadata": {},
          "execution_count": 27
        }
      ]
    },
    {
      "cell_type": "code",
      "source": [
        "d.doit().subs({t:1})"
      ],
      "metadata": {
        "colab": {
          "base_uri": "https://localhost:8080/",
          "height": 37
        },
        "id": "6akdnIdJiLuY",
        "outputId": "ea42bc46-5b86-40b0-fd17-3ad7a4c8d995"
      },
      "execution_count": null,
      "outputs": [
        {
          "output_type": "execute_result",
          "data": {
            "text/latex": "$\\displaystyle 12$",
            "text/plain": [
              "12"
            ]
          },
          "metadata": {},
          "execution_count": 28
        }
      ]
    },
    {
      "cell_type": "code",
      "source": [
        "d.doit().subs({t:t3})"
      ],
      "metadata": {
        "colab": {
          "base_uri": "https://localhost:8080/",
          "height": 166
        },
        "id": "89WKZkO4iflh",
        "outputId": "c1160dd6-d4e9-4f66-e110-7637d97e8653"
      },
      "execution_count": 20,
      "outputs": [
        {
          "output_type": "error",
          "ename": "NameError",
          "evalue": "ignored",
          "traceback": [
            "\u001b[0;31m---------------------------------------------------------------------------\u001b[0m",
            "\u001b[0;31mNameError\u001b[0m                                 Traceback (most recent call last)",
            "\u001b[0;32m<ipython-input-20-97e4fb5decea>\u001b[0m in \u001b[0;36m<module>\u001b[0;34m()\u001b[0m\n\u001b[0;32m----> 1\u001b[0;31m \u001b[0md\u001b[0m\u001b[0;34m.\u001b[0m\u001b[0mdoit\u001b[0m\u001b[0;34m(\u001b[0m\u001b[0;34m)\u001b[0m\u001b[0;34m.\u001b[0m\u001b[0msubs\u001b[0m\u001b[0;34m(\u001b[0m\u001b[0;34m{\u001b[0m\u001b[0mt\u001b[0m\u001b[0;34m:\u001b[0m\u001b[0mt3\u001b[0m\u001b[0;34m}\u001b[0m\u001b[0;34m)\u001b[0m\u001b[0;34m\u001b[0m\u001b[0;34m\u001b[0m\u001b[0m\n\u001b[0m",
            "\u001b[0;31mNameError\u001b[0m: name 'd' is not defined"
          ]
        }
      ]
    },
    {
      "cell_type": "markdown",
      "source": [
        "Xảy ra lỗi vì chưa khai báo biến "
      ],
      "metadata": {
        "id": "SYNDqg65imI3"
      }
    },
    {
      "cell_type": "code",
      "source": [
        "t1 = Symbol('t1')\n",
        "d.doit().subs({t:t1})"
      ],
      "metadata": {
        "colab": {
          "base_uri": "https://localhost:8080/",
          "height": 38
        },
        "id": "gDjqyQhrip96",
        "outputId": "2b866582-d5ae-4864-c927-9ee0551562e7"
      },
      "execution_count": null,
      "outputs": [
        {
          "output_type": "execute_result",
          "data": {
            "text/latex": "$\\displaystyle 10 t_{1} + 2$",
            "text/plain": [
              "10*t1 + 2"
            ]
          },
          "metadata": {},
          "execution_count": 30
        }
      ]
    },
    {
      "cell_type": "code",
      "source": [
        "t2 = 10\n",
        "d.doit().subs({t:t2})"
      ],
      "metadata": {
        "colab": {
          "base_uri": "https://localhost:8080/",
          "height": 37
        },
        "id": "PqFYF7Ydi1o_",
        "outputId": "09b64d09-e559-49e1-dd05-7281587b6d84"
      },
      "execution_count": null,
      "outputs": [
        {
          "output_type": "execute_result",
          "data": {
            "text/latex": "$\\displaystyle 102$",
            "text/plain": [
              "102"
            ]
          },
          "metadata": {},
          "execution_count": 31
        }
      ]
    },
    {
      "cell_type": "markdown",
      "source": [
        "Thực hành 9"
      ],
      "metadata": {
        "id": "Cb-Ww3C_i7O2"
      }
    },
    {
      "cell_type": "code",
      "source": [
        "from sympy import Derivative, Symbol\n",
        "x = Symbol('x')\n",
        "f = (x**3 + x**2 + x) * (x**2 + x)\n",
        "Derivative(f,x).doit()"
      ],
      "metadata": {
        "colab": {
          "base_uri": "https://localhost:8080/",
          "height": 38
        },
        "id": "IfeKvwlOi-aN",
        "outputId": "4f2350fc-1103-4962-9bb2-7db948b2c519"
      },
      "execution_count": null,
      "outputs": [
        {
          "output_type": "execute_result",
          "data": {
            "text/latex": "$\\displaystyle \\left(2 x + 1\\right) \\left(x^{3} + x^{2} + x\\right) + \\left(x^{2} + x\\right) \\left(3 x^{2} + 2 x + 1\\right)$",
            "text/plain": [
              "(2*x + 1)*(x**3 + x**2 + x) + (x**2 + x)*(3*x**2 + 2*x + 1)"
            ]
          },
          "metadata": {},
          "execution_count": 32
        }
      ]
    },
    {
      "cell_type": "markdown",
      "source": [
        "Thực hành 10a"
      ],
      "metadata": {
        "id": "SgAXI2MijJc1"
      }
    },
    {
      "cell_type": "code",
      "source": [
        "from sympy import Derivative, Symbol, sin\n",
        "import sympy\n",
        "x = Symbol('x')\n",
        "f = sympy.sin(2*x)\n",
        "Derivative(f,x).doit()"
      ],
      "metadata": {
        "colab": {
          "base_uri": "https://localhost:8080/",
          "height": 38
        },
        "id": "eQlGq07jjL0y",
        "outputId": "bf69950e-b6df-48b5-9fa2-894ef61b21d4"
      },
      "execution_count": null,
      "outputs": [
        {
          "output_type": "execute_result",
          "data": {
            "text/latex": "$\\displaystyle 2 \\cos{\\left(2 x \\right)}$",
            "text/plain": [
              "2*cos(2*x)"
            ]
          },
          "metadata": {},
          "execution_count": 35
        }
      ]
    },
    {
      "cell_type": "markdown",
      "source": [
        "Thực hành 10b"
      ],
      "metadata": {
        "id": "eC5w9majj6ww"
      }
    },
    {
      "cell_type": "code",
      "source": [
        "from sympy import Derivative, Symbol\n",
        "x = Symbol('x')\n",
        "f = sympy.sin(x) * sympy.cos(x)\n",
        "Derivative(f,x).doit()"
      ],
      "metadata": {
        "colab": {
          "base_uri": "https://localhost:8080/",
          "height": 38
        },
        "id": "EYQdH0tFj965",
        "outputId": "9207ba45-9ebb-4ded-9474-7da3f4396b12"
      },
      "execution_count": null,
      "outputs": [
        {
          "output_type": "execute_result",
          "data": {
            "text/latex": "$\\displaystyle - \\sin^{2}{\\left(x \\right)} + \\cos^{2}{\\left(x \\right)}$",
            "text/plain": [
              "-sin(x)**2 + cos(x)**2"
            ]
          },
          "metadata": {},
          "execution_count": 36
        }
      ]
    },
    {
      "cell_type": "markdown",
      "source": [
        "Thực hành 11"
      ],
      "metadata": {
        "id": "rsWh2s4IlqnY"
      }
    },
    {
      "cell_type": "code",
      "source": [
        "from sympy import Symbol, solve, Derivative\n",
        "x = Symbol('x')\n",
        "f = x**5 - 30*x**3 + 50*x\n",
        "d1 = Derivative(f,x).doit()\n",
        "d1"
      ],
      "metadata": {
        "colab": {
          "base_uri": "https://localhost:8080/",
          "height": 38
        },
        "id": "uAarF965lsMc",
        "outputId": "55ad5eaf-7498-466e-a8e0-15f32d3e2b50"
      },
      "execution_count": null,
      "outputs": [
        {
          "output_type": "execute_result",
          "data": {
            "text/latex": "$\\displaystyle 5 x^{4} - 90 x^{2} + 50$",
            "text/plain": [
              "5*x**4 - 90*x**2 + 50"
            ]
          },
          "metadata": {},
          "execution_count": 37
        }
      ]
    },
    {
      "cell_type": "code",
      "source": [
        "d1 = Derivative(f,x).doit()\n",
        "cuctri = solve(d1)\n",
        "print(cuctri)"
      ],
      "metadata": {
        "colab": {
          "base_uri": "https://localhost:8080/"
        },
        "id": "jvseno-7mBUr",
        "outputId": "5b4b974b-e57e-4268-9306-2110cbfe26f7"
      },
      "execution_count": null,
      "outputs": [
        {
          "output_type": "stream",
          "name": "stdout",
          "text": [
            "[-sqrt(9 - sqrt(71)), sqrt(9 - sqrt(71)), -sqrt(sqrt(71) + 9), sqrt(sqrt(71) + 9)]\n"
          ]
        }
      ]
    },
    {
      "cell_type": "code",
      "source": [
        "A = cuctri[0]\n",
        "A"
      ],
      "metadata": {
        "colab": {
          "base_uri": "https://localhost:8080/",
          "height": 48
        },
        "id": "6KV0yubooAVL",
        "outputId": "3d3a06e1-8f91-4494-a638-5a190821524e"
      },
      "execution_count": null,
      "outputs": [
        {
          "output_type": "execute_result",
          "data": {
            "text/latex": "$\\displaystyle - \\sqrt{9 - \\sqrt{71}}$",
            "text/plain": [
              "-sqrt(9 - sqrt(71))"
            ]
          },
          "metadata": {},
          "execution_count": 39
        }
      ]
    },
    {
      "cell_type": "code",
      "source": [
        "A = cuctri[2]\n",
        "A"
      ],
      "metadata": {
        "colab": {
          "base_uri": "https://localhost:8080/",
          "height": 48
        },
        "id": "GHASqUNkolnR",
        "outputId": "a73787e6-ca6d-446b-ac7f-8403a1815081"
      },
      "execution_count": null,
      "outputs": [
        {
          "output_type": "execute_result",
          "data": {
            "text/latex": "$\\displaystyle - \\sqrt{\\sqrt{71} + 9}$",
            "text/plain": [
              "-sqrt(sqrt(71) + 9)"
            ]
          },
          "metadata": {},
          "execution_count": 40
        }
      ]
    },
    {
      "cell_type": "code",
      "source": [
        "B = cuctri[1]\n",
        "B"
      ],
      "metadata": {
        "colab": {
          "base_uri": "https://localhost:8080/",
          "height": 48
        },
        "id": "l0LSguZSoLYI",
        "outputId": "5718b94d-879e-4112-f5b3-7853e0ca104d"
      },
      "execution_count": null,
      "outputs": [
        {
          "output_type": "execute_result",
          "data": {
            "text/latex": "$\\displaystyle \\sqrt{9 - \\sqrt{71}}$",
            "text/plain": [
              "sqrt(9 - sqrt(71))"
            ]
          },
          "metadata": {},
          "execution_count": 41
        }
      ]
    },
    {
      "cell_type": "code",
      "source": [
        "C = cuctri[1]\n",
        "C"
      ],
      "metadata": {
        "colab": {
          "base_uri": "https://localhost:8080/",
          "height": 48
        },
        "id": "8DIXR8RxpRx-",
        "outputId": "c8ab3fe8-1c27-485c-a628-4b784dd4d68b"
      },
      "execution_count": null,
      "outputs": [
        {
          "output_type": "execute_result",
          "data": {
            "text/latex": "$\\displaystyle \\sqrt{9 - \\sqrt{71}}$",
            "text/plain": [
              "sqrt(9 - sqrt(71))"
            ]
          },
          "metadata": {},
          "execution_count": 52
        }
      ]
    },
    {
      "cell_type": "code",
      "source": [
        "D = cuctri[3]\n",
        "D"
      ],
      "metadata": {
        "colab": {
          "base_uri": "https://localhost:8080/",
          "height": 48
        },
        "id": "RGXNJir_phBM",
        "outputId": "d554834c-aef8-40f5-99ff-9438e61eff3d"
      },
      "execution_count": null,
      "outputs": [
        {
          "output_type": "execute_result",
          "data": {
            "text/latex": "$\\displaystyle \\sqrt{\\sqrt{71} + 9}$",
            "text/plain": [
              "sqrt(sqrt(71) + 9)"
            ]
          },
          "metadata": {},
          "execution_count": 42
        }
      ]
    },
    {
      "cell_type": "code",
      "source": [
        "d2 = Derivative(d1,x,2).doit()\n",
        "d2"
      ],
      "metadata": {
        "colab": {
          "base_uri": "https://localhost:8080/",
          "height": 38
        },
        "id": "o4aNW3rOvMJ2",
        "outputId": "ce0545a1-d864-486a-f0bd-86e164e3e6cc"
      },
      "execution_count": null,
      "outputs": [
        {
          "output_type": "execute_result",
          "data": {
            "text/latex": "$\\displaystyle 60 \\left(x^{2} - 3\\right)$",
            "text/plain": [
              "60*(x**2 - 3)"
            ]
          },
          "metadata": {},
          "execution_count": 43
        }
      ]
    },
    {
      "cell_type": "code",
      "source": [
        "d2.subs({x:B}).evalf()"
      ],
      "metadata": {
        "colab": {
          "base_uri": "https://localhost:8080/",
          "height": 37
        },
        "id": "XmmCbsL8OHAq",
        "outputId": "0fa78381-d11e-45ee-ec14-09957c98805c"
      },
      "execution_count": null,
      "outputs": [
        {
          "output_type": "execute_result",
          "data": {
            "text/latex": "$\\displaystyle -145.568986390582$",
            "text/plain": [
              "-145.568986390582"
            ]
          },
          "metadata": {},
          "execution_count": 44
        }
      ]
    },
    {
      "cell_type": "code",
      "source": [
        "d2.subs({x:C}).evalf()"
      ],
      "metadata": {
        "colab": {
          "base_uri": "https://localhost:8080/",
          "height": 37
        },
        "id": "vfekxVQPOLx-",
        "outputId": "35301d34-5083-46ca-fd94-0675aea3fe66"
      },
      "execution_count": null,
      "outputs": [
        {
          "output_type": "execute_result",
          "data": {
            "text/latex": "$\\displaystyle -145.568986390582$",
            "text/plain": [
              "-145.568986390582"
            ]
          },
          "metadata": {},
          "execution_count": 53
        }
      ]
    },
    {
      "cell_type": "code",
      "source": [
        "d2.subs({x:A}).evalf()"
      ],
      "metadata": {
        "colab": {
          "base_uri": "https://localhost:8080/",
          "height": 37
        },
        "id": "bCNfr0obOMtB",
        "outputId": "3115cc66-2fb5-47ab-de8d-b60645d151e3"
      },
      "execution_count": null,
      "outputs": [
        {
          "output_type": "execute_result",
          "data": {
            "text/latex": "$\\displaystyle 865.568986390581$",
            "text/plain": [
              "865.568986390581"
            ]
          },
          "metadata": {},
          "execution_count": 48
        }
      ]
    },
    {
      "cell_type": "code",
      "source": [
        "d2.subs({x:D}).evalf()"
      ],
      "metadata": {
        "colab": {
          "base_uri": "https://localhost:8080/",
          "height": 37
        },
        "id": "6n1I0PvZOOpc",
        "outputId": "a1d37c27-2021-4321-a505-08e800dd42c4"
      },
      "execution_count": null,
      "outputs": [
        {
          "output_type": "execute_result",
          "data": {
            "text/latex": "$\\displaystyle 865.568986390581$",
            "text/plain": [
              "865.568986390581"
            ]
          },
          "metadata": {},
          "execution_count": 49
        }
      ]
    },
    {
      "cell_type": "code",
      "source": [
        "x_min = -5\n",
        "x_max = 5"
      ],
      "metadata": {
        "id": "PqxVCb-pOUJq"
      },
      "execution_count": null,
      "outputs": []
    },
    {
      "cell_type": "code",
      "source": [
        "f.subs({x:A}).evalf()"
      ],
      "metadata": {
        "colab": {
          "base_uri": "https://localhost:8080/",
          "height": 37
        },
        "id": "h6bsTiLxP5s7",
        "outputId": "ecbe1c80-0701-4d32-c910-e7ff751a59e5"
      },
      "execution_count": null,
      "outputs": [
        {
          "output_type": "execute_result",
          "data": {
            "text/latex": "$\\displaystyle 705.959460380365$",
            "text/plain": [
              "705.959460380365"
            ]
          },
          "metadata": {},
          "execution_count": 56
        }
      ]
    },
    {
      "cell_type": "code",
      "source": [
        "f.subs({x:C}).evalf()"
      ],
      "metadata": {
        "colab": {
          "base_uri": "https://localhost:8080/",
          "height": 37
        },
        "id": "IMHTuQomP8N-",
        "outputId": "9a76faab-28da-4252-f375-ca51c92d1ee6"
      },
      "execution_count": null,
      "outputs": [
        {
          "output_type": "execute_result",
          "data": {
            "text/latex": "$\\displaystyle 25.0846626340294$",
            "text/plain": [
              "25.0846626340294"
            ]
          },
          "metadata": {},
          "execution_count": 58
        }
      ]
    },
    {
      "cell_type": "code",
      "source": [
        "f.subs({x:x_min}).evalf()"
      ],
      "metadata": {
        "colab": {
          "base_uri": "https://localhost:8080/",
          "height": 37
        },
        "id": "bXO0mffvQFgg",
        "outputId": "86f1356a-cc86-4ff1-bb2a-b02e8793a5e7"
      },
      "execution_count": null,
      "outputs": [
        {
          "output_type": "execute_result",
          "data": {
            "text/latex": "$\\displaystyle 375.0$",
            "text/plain": [
              "375.000000000000"
            ]
          },
          "metadata": {},
          "execution_count": 59
        }
      ]
    },
    {
      "cell_type": "code",
      "source": [
        "f.subs({x:x_max}).evalf()"
      ],
      "metadata": {
        "colab": {
          "base_uri": "https://localhost:8080/",
          "height": 37
        },
        "id": "SUL0t1-HQIxi",
        "outputId": "7b8925d9-0613-4945-9ada-66d9c0734b61"
      },
      "execution_count": null,
      "outputs": [
        {
          "output_type": "execute_result",
          "data": {
            "text/latex": "$\\displaystyle -375.0$",
            "text/plain": [
              "-375.000000000000"
            ]
          },
          "metadata": {},
          "execution_count": 60
        }
      ]
    },
    {
      "cell_type": "code",
      "source": [
        "f.subs({x:B}).evalf()"
      ],
      "metadata": {
        "colab": {
          "base_uri": "https://localhost:8080/",
          "height": 37
        },
        "id": "fl1A31JIQUwC",
        "outputId": "95a60b13-8ff6-4e10-a0e2-d0e82d28c8cd"
      },
      "execution_count": null,
      "outputs": [
        {
          "output_type": "execute_result",
          "data": {
            "text/latex": "$\\displaystyle 25.0846626340294$",
            "text/plain": [
              "25.0846626340294"
            ]
          },
          "metadata": {},
          "execution_count": 61
        }
      ]
    },
    {
      "cell_type": "code",
      "source": [
        "f.subs({x:D}).evalf()"
      ],
      "metadata": {
        "colab": {
          "base_uri": "https://localhost:8080/",
          "height": 37
        },
        "id": "9kYhcl-FQXNH",
        "outputId": "7e1f5181-ef29-4dc1-96ec-7b25aaba5762"
      },
      "execution_count": null,
      "outputs": [
        {
          "output_type": "execute_result",
          "data": {
            "text/latex": "$\\displaystyle -705.959460380365$",
            "text/plain": [
              "-705.959460380365"
            ]
          },
          "metadata": {},
          "execution_count": 62
        }
      ]
    },
    {
      "cell_type": "code",
      "source": [
        "f.subs({x:x_min}).evalf()"
      ],
      "metadata": {
        "colab": {
          "base_uri": "https://localhost:8080/",
          "height": 37
        },
        "id": "iF2x0_tNQcpd",
        "outputId": "17716252-2f6f-4727-f1ab-293c167889b8"
      },
      "execution_count": null,
      "outputs": [
        {
          "output_type": "execute_result",
          "data": {
            "text/latex": "$\\displaystyle 375.0$",
            "text/plain": [
              "375.000000000000"
            ]
          },
          "metadata": {},
          "execution_count": 63
        }
      ]
    },
    {
      "cell_type": "code",
      "source": [
        "f.subs({x:x_max}).evalf()"
      ],
      "metadata": {
        "colab": {
          "base_uri": "https://localhost:8080/",
          "height": 37
        },
        "id": "0KrB-vXLQd1n",
        "outputId": "ca250ab7-0b74-4be3-ccb9-f21011256ceb"
      },
      "execution_count": null,
      "outputs": [
        {
          "output_type": "execute_result",
          "data": {
            "text/latex": "$\\displaystyle -375.0$",
            "text/plain": [
              "-375.000000000000"
            ]
          },
          "metadata": {},
          "execution_count": 64
        }
      ]
    },
    {
      "cell_type": "code",
      "source": [
        "from sympy import Symbol, Derivative,\n",
        "g = sympy.E**x\n",
        "gl = Derivative(g,x)\n",
        "gl\n"
      ],
      "metadata": {
        "colab": {
          "base_uri": "https://localhost:8080/",
          "height": 52
        },
        "id": "YM_OJvY5QxzV",
        "outputId": "009bc187-aa7a-43af-af36-29c1f52f763e"
      },
      "execution_count": null,
      "outputs": [
        {
          "output_type": "execute_result",
          "data": {
            "text/latex": "$\\displaystyle \\frac{d}{d x} e^{x}$",
            "text/plain": [
              "Derivative(exp(x), x)"
            ]
          },
          "metadata": {},
          "execution_count": 67
        }
      ]
    },
    {
      "cell_type": "code",
      "source": [
        "solve(gl)"
      ],
      "metadata": {
        "colab": {
          "base_uri": "https://localhost:8080/"
        },
        "id": "9yiGXhEYR1vj",
        "outputId": "6710bae5-595e-46a5-cb8c-c82c46de5864"
      },
      "execution_count": null,
      "outputs": [
        {
          "output_type": "execute_result",
          "data": {
            "text/plain": [
              "[]"
            ]
          },
          "metadata": {},
          "execution_count": 68
        }
      ]
    },
    {
      "cell_type": "code",
      "source": [
        "import sympy\n",
        "sympy.plot(f,(x, -5,5))"
      ],
      "metadata": {
        "colab": {
          "base_uri": "https://localhost:8080/",
          "height": 314
        },
        "id": "1K8bHjqbR9Ng",
        "outputId": "2fa367ec-cf64-445f-9cb3-66fd1228c6e3"
      },
      "execution_count": null,
      "outputs": [
        {
          "output_type": "display_data",
          "data": {
            "image/png": "[encoded data removed]",
            "text/plain": [
              "<Figure size 432x288 with 1 Axes>"
            ]
          },
          "metadata": {
            "needs_background": "light"
          }
        },
        {
          "output_type": "execute_result",
          "data": {
            "text/plain": [
              "<sympy.plotting.plot.Plot at 0x7f8aeaf49950>"
            ]
          },
          "metadata": {},
          "execution_count": 69
        }
      ]
    },
    {
      "cell_type": "markdown",
      "source": [
        "**Bài Tập Chương 1**"
      ],
      "metadata": {
        "id": "iMQ0Ob9rNuN6"
      }
    },
    {
      "cell_type": "markdown",
      "source": [
        "Bài 1"
      ],
      "metadata": {
        "id": "F5ko0HjoOum_"
      }
    },
    {
      "cell_type": "code",
      "source": [
        "from pylab import plot, show\n",
        "rain_day = [2.4, 1.0, 1.9, 5.4, 17.8, 19.0, 22.9, 22.4, 23.1, 20.9, 12.1, 6.7]\n",
        "months = range(1,13)\n",
        "plot(months, rain_day, marker='o', color='r')\n",
        "show()\n"
      ],
      "metadata": {
        "id": "A1o21MYDOtc7",
        "outputId": "2b5fc674-6433-4010-b534-1a4ad5aae250",
        "colab": {
          "base_uri": "https://localhost:8080/",
          "height": 265
        }
      },
      "execution_count": 1,
      "outputs": [
        {
          "output_type": "display_data",
          "data": {
            "image/png": "[encoded data removed]",
            "text/plain": [
              "<Figure size 432x288 with 1 Axes>"
            ]
          },
          "metadata": {
            "needs_background": "light"
          }
        }
      ]
    },
    {
      "cell_type": "code",
      "source": [
        "Average_hours_of_sunshine = [245, 246, 272, 239, 195, 171, 180, 172, 162, 182, 200, 226]\n",
        "months = range(1,13)\n",
        "plot(months, Average_hours_of_sunshine, marker='o', color='g')\n",
        "show()"
      ],
      "metadata": {
        "id": "7tMSpXdNPgbH",
        "outputId": "bfb10014-27f1-4f42-8097-35988ef5447d",
        "colab": {
          "base_uri": "https://localhost:8080/",
          "height": 265
        }
      },
      "execution_count": 2,
      "outputs": [
        {
          "output_type": "display_data",
          "data": {
            "image/png": "[encoded data removed]",
            "text/plain": [
              "<Figure size 432x288 with 1 Axes>"
            ]
          },
          "metadata": {
            "needs_background": "light"
          }
        }
      ]
    },
    {
      "cell_type": "markdown",
      "source": [
        "Bài 2"
      ],
      "metadata": {
        "id": "XlXrAg2UPjBz"
      }
    },
    {
      "cell_type": "code",
      "source": [
        "from sympy import Symbol, Derivative\n",
        "x = Symbol('x')\n",
        "st = x**4 - 4*x**2 + x - 1\n",
        "Derivative(st,x).doit()"
      ],
      "metadata": {
        "id": "11mfY4aTPkaY",
        "outputId": "27b5e37f-69af-4455-8aac-24eb65b6be3e",
        "colab": {
          "base_uri": "https://localhost:8080/",
          "height": 38
        }
      },
      "execution_count": 1,
      "outputs": [
        {
          "output_type": "execute_result",
          "data": {
            "text/latex": "$\\displaystyle 4 x^{3} - 8 x + 1$",
            "text/plain": [
              "4*x**3 - 8*x + 1"
            ]
          },
          "metadata": {},
          "execution_count": 1
        }
      ]
    },
    {
      "cell_type": "code",
      "source": [
        "from sympy import Symbol, Derivative\n",
        "t = Symbol('t')\n",
        "st = 3*t**4 + 6*t + 17\n",
        "Derivative(st,t).doit()"
      ],
      "metadata": {
        "id": "fPTJcl6brYKN",
        "outputId": "70772b21-74ef-4783-b872-6549a9923b3b",
        "colab": {
          "base_uri": "https://localhost:8080/",
          "height": 38
        }
      },
      "execution_count": 3,
      "outputs": [
        {
          "output_type": "execute_result",
          "data": {
            "text/latex": "$\\displaystyle 12 t^{3} + 6$",
            "text/plain": [
              "12*t**3 + 6"
            ]
          },
          "metadata": {},
          "execution_count": 3
        }
      ]
    },
    {
      "cell_type": "code",
      "source": [
        "from sympy import Symbol, Derivative\n",
        "t = Symbol('t')\n",
        "st = 5*t**2 + 2*t + 8\n",
        "Derivative(st,t).doit()"
      ],
      "metadata": {
        "id": "nFTcqif6riTa",
        "outputId": "ec263181-f893-4f6a-95f2-b268d3a221ca",
        "colab": {
          "base_uri": "https://localhost:8080/",
          "height": 38
        }
      },
      "execution_count": 7,
      "outputs": [
        {
          "output_type": "execute_result",
          "data": {
            "text/latex": "$\\displaystyle 10 t + 2$",
            "text/plain": [
              "10*t + 2"
            ]
          },
          "metadata": {},
          "execution_count": 7
        }
      ]
    },
    {
      "cell_type": "code",
      "source": [
        "from sympy import Symbol, Derivative\n",
        "x = Symbol('x')\n",
        "f = x**2 - 8*x + 9\n",
        "Derivative(f,x).doit()"
      ],
      "metadata": {
        "id": "ZnaU_RejrmQc",
        "outputId": "faf5479c-c466-4169-cc1d-0a2abf6f4c02",
        "colab": {
          "base_uri": "https://localhost:8080/",
          "height": 38
        }
      },
      "execution_count": 5,
      "outputs": [
        {
          "output_type": "execute_result",
          "data": {
            "text/latex": "$\\displaystyle 2 x - 8$",
            "text/plain": [
              "2*x - 8"
            ]
          },
          "metadata": {},
          "execution_count": 5
        }
      ]
    },
    {
      "cell_type": "code",
      "source": [
        "from sympy import Symbol, Derivative\n",
        "x = Symbol('x')\n",
        "f = (1 - x) / (2 + x)\n",
        "Derivative(f,x).doit()"
      ],
      "metadata": {
        "id": "71IsLtncsCil",
        "outputId": "5f48c6d3-d805-4dfc-ca50-02503d0db9d4",
        "colab": {
          "base_uri": "https://localhost:8080/",
          "height": 58
        }
      },
      "execution_count": 10,
      "outputs": [
        {
          "output_type": "execute_result",
          "data": {
            "text/latex": "$\\displaystyle - \\frac{1 - x}{\\left(x + 2\\right)^{2}} - \\frac{1}{x + 2}$",
            "text/plain": [
              "-(1 - x)/(x + 2)**2 - 1/(x + 2)"
            ]
          },
          "metadata": {},
          "execution_count": 10
        }
      ]
    },
    {
      "cell_type": "code",
      "source": [
        "from sympy import Symbol, Derivative\n",
        "x = Symbol('x')\n",
        "f = (5 - 2*x) / (7 + 4*x)\n",
        "Derivative(f,x).doit()"
      ],
      "metadata": {
        "id": "THzlvJF5sG9y",
        "outputId": "439470ab-5015-448e-bcb4-acafce286337",
        "colab": {
          "base_uri": "https://localhost:8080/",
          "height": 60
        }
      },
      "execution_count": 11,
      "outputs": [
        {
          "output_type": "execute_result",
          "data": {
            "text/latex": "$\\displaystyle - \\frac{4 \\left(5 - 2 x\\right)}{\\left(4 x + 7\\right)^{2}} - \\frac{2}{4 x + 7}$",
            "text/plain": [
              "-4*(5 - 2*x)/(4*x + 7)**2 - 2/(4*x + 7)"
            ]
          },
          "metadata": {},
          "execution_count": 11
        }
      ]
    },
    {
      "cell_type": "code",
      "source": [
        "from sympy import Symbol, Derivative\n",
        "x = Symbol(\"x\")\n",
        "f = x**3 - x\n",
        "Derivative(f,x).doit()"
      ],
      "metadata": {
        "id": "3GagNCI_szwT",
        "outputId": "601181be-ec51-4bb8-f7bc-23cf6702fb38",
        "colab": {
          "base_uri": "https://localhost:8080/",
          "height": 38
        }
      },
      "execution_count": 12,
      "outputs": [
        {
          "output_type": "execute_result",
          "data": {
            "text/latex": "$\\displaystyle 3 x^{2} - 1$",
            "text/plain": [
              "3*x**2 - 1"
            ]
          },
          "metadata": {},
          "execution_count": 12
        }
      ]
    },
    {
      "cell_type": "code",
      "source": [
        "from sympy import Symbol, Derivative\n",
        "x = Symbol(\"x\")\n",
        "f = 3 / (x**2 + 2*x -1)**3\n",
        "Derivative(f,x).doit()"
      ],
      "metadata": {
        "id": "Ix9Snyuas1qV",
        "outputId": "c9fbbb62-9948-41cd-9672-e32a8abc1916",
        "colab": {
          "base_uri": "https://localhost:8080/",
          "height": 60
        }
      },
      "execution_count": 13,
      "outputs": [
        {
          "output_type": "execute_result",
          "data": {
            "text/latex": "$\\displaystyle \\frac{3 \\left(- 6 x - 6\\right)}{\\left(x^{2} + 2 x - 1\\right)^{4}}$",
            "text/plain": [
              "3*(-6*x - 6)/(x**2 + 2*x - 1)**4"
            ]
          },
          "metadata": {},
          "execution_count": 13
        }
      ]
    },
    {
      "cell_type": "code",
      "source": [
        "from sympy import Symbol, Derivative\n",
        "import sympy\n",
        "x = Symbol('x')\n",
        "f = sympy.sin(x)*sympy.cos(x)\n",
        "Derivative(f,x).doit()"
      ],
      "metadata": {
        "id": "1MDXaii_tCkh",
        "outputId": "65369442-3f52-43ae-8f5e-069f36615ff8",
        "colab": {
          "base_uri": "https://localhost:8080/",
          "height": 38
        }
      },
      "execution_count": 14,
      "outputs": [
        {
          "output_type": "execute_result",
          "data": {
            "text/latex": "$\\displaystyle - \\sin^{2}{\\left(x \\right)} + \\cos^{2}{\\left(x \\right)}$",
            "text/plain": [
              "-sin(x)**2 + cos(x)**2"
            ]
          },
          "metadata": {},
          "execution_count": 14
        }
      ]
    },
    {
      "cell_type": "code",
      "source": [
        "from sympy import Symbol, Derivative\n",
        "import sympy\n",
        "x = Symbol('x')\n",
        "f = sympy.sin(5*x)*sympy.cos(3*x)+sympy.sin(3*x)*sympy.cos(5*x)\n",
        "Derivative(f,x).doit()"
      ],
      "metadata": {
        "id": "3ZD-igIPtG0D",
        "outputId": "2d55b985-2947-4ee0-8409-366f137d1286",
        "colab": {
          "base_uri": "https://localhost:8080/",
          "height": 38
        }
      },
      "execution_count": 17,
      "outputs": [
        {
          "output_type": "execute_result",
          "data": {
            "text/latex": "$\\displaystyle - 8 \\sin{\\left(3 x \\right)} \\sin{\\left(5 x \\right)} + 8 \\cos{\\left(3 x \\right)} \\cos{\\left(5 x \\right)}$",
            "text/plain": [
              "-8*sin(3*x)*sin(5*x) + 8*cos(3*x)*cos(5*x)"
            ]
          },
          "metadata": {},
          "execution_count": 17
        }
      ]
    }
  ]
}