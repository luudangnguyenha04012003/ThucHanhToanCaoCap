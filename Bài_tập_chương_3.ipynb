{
  "nbformat": 4,
  "nbformat_minor": 0,
  "metadata": {
    "colab": {
      "name": "Bài tập chương 3.ipynb",
      "provenance": [],
      "authorship_tag": "ABX9TyPMqwK3ehIqLkfOvSpoKly8",
      "include_colab_link": true
    },
    "kernelspec": {
      "name": "python3",
      "display_name": "Python 3"
    },
    "language_info": {
      "name": "python"
    }
  },
  "cells": [
    {
      "cell_type": "markdown",
      "metadata": {
        "id": "view-in-github",
        "colab_type": "text"
      },
      "source": [
        "<a href=\"https://colab.research.google.com/github/luudangnguyenha04012003/ThucHanhToanCaoCap/blob/main/B%C3%A0i_t%E1%BA%ADp_ch%C6%B0%C6%A1ng_3.ipynb\" target=\"_parent\"><img src=\"https://colab.research.google.com/assets/colab-badge.svg\" alt=\"Open In Colab\"/></a>"
      ]
    },
    {
      "cell_type": "markdown",
      "source": [
        "Thực hành 1"
      ],
      "metadata": {
        "id": "IvgIiSL7Hhcv"
      }
    },
    {
      "cell_type": "code",
      "execution_count": null,
      "metadata": {
        "id": "NUfYGLUYGsK-"
      },
      "outputs": [],
      "source": [
        "def luythua(x,n):\n",
        "  ketqua = 1\n",
        "  for i in range(n):\n",
        "    ketqua *= x\n",
        "  return ketqua"
      ]
    },
    {
      "cell_type": "code",
      "source": [
        "luythua(2,1)"
      ],
      "metadata": {
        "colab": {
          "base_uri": "https://localhost:8080/"
        },
        "id": "UgIohb0oINNT",
        "outputId": "9b73368f-1fea-4506-ec5f-579edfaa1e30"
      },
      "execution_count": null,
      "outputs": [
        {
          "output_type": "execute_result",
          "data": {
            "text/plain": [
              "2"
            ]
          },
          "metadata": {},
          "execution_count": 2
        }
      ]
    },
    {
      "cell_type": "code",
      "source": [
        "luythua(2,0)"
      ],
      "metadata": {
        "colab": {
          "base_uri": "https://localhost:8080/"
        },
        "id": "-v3ayJYsIbLi",
        "outputId": "2cbe066b-be6c-4801-a1c5-3de44099ee19"
      },
      "execution_count": null,
      "outputs": [
        {
          "output_type": "execute_result",
          "data": {
            "text/plain": [
              "1"
            ]
          },
          "metadata": {},
          "execution_count": 3
        }
      ]
    },
    {
      "cell_type": "markdown",
      "source": [
        "Thực hành 2"
      ],
      "metadata": {
        "id": "IbR5AtthXVxp"
      }
    },
    {
      "cell_type": "code",
      "source": [
        "while 1=2:"
      ],
      "metadata": {
        "colab": {
          "base_uri": "https://localhost:8080/",
          "height": 131
        },
        "id": "fb8FAT2BXbcw",
        "outputId": "fbbce459-4ee6-4f5d-e846-3f65aebcb4a8"
      },
      "execution_count": null,
      "outputs": [
        {
          "output_type": "error",
          "ename": "SyntaxError",
          "evalue": "ignored",
          "traceback": [
            "\u001b[0;36m  File \u001b[0;32m\"<ipython-input-4-447cd9702aea>\"\u001b[0;36m, line \u001b[0;32m1\u001b[0m\n\u001b[0;31m    while 1=2:\u001b[0m\n\u001b[0m           ^\u001b[0m\n\u001b[0;31mSyntaxError\u001b[0m\u001b[0;31m:\u001b[0m invalid syntax\n"
          ]
        }
      ]
    },
    {
      "cell_type": "code",
      "source": [
        "10*(1/0)"
      ],
      "metadata": {
        "colab": {
          "base_uri": "https://localhost:8080/",
          "height": 166
        },
        "id": "3q-azxELXlzu",
        "outputId": "3911dfa9-dd40-4eb9-d39c-3cdbe5ab6432"
      },
      "execution_count": null,
      "outputs": [
        {
          "output_type": "error",
          "ename": "ZeroDivisionError",
          "evalue": "ignored",
          "traceback": [
            "\u001b[0;31m---------------------------------------------------------------------------\u001b[0m",
            "\u001b[0;31mZeroDivisionError\u001b[0m                         Traceback (most recent call last)",
            "\u001b[0;32m<ipython-input-5-fbc7e86ae71a>\u001b[0m in \u001b[0;36m<module>\u001b[0;34m()\u001b[0m\n\u001b[0;32m----> 1\u001b[0;31m \u001b[0;36m10\u001b[0m\u001b[0;34m*\u001b[0m\u001b[0;34m(\u001b[0m\u001b[0;36m1\u001b[0m\u001b[0;34m/\u001b[0m\u001b[0;36m0\u001b[0m\u001b[0;34m)\u001b[0m\u001b[0;34m\u001b[0m\u001b[0;34m\u001b[0m\u001b[0m\n\u001b[0m",
            "\u001b[0;31mZeroDivisionError\u001b[0m: division by zero"
          ]
        }
      ]
    },
    {
      "cell_type": "code",
      "source": [
        "3*bien_chua_khai_bao/4"
      ],
      "metadata": {
        "colab": {
          "base_uri": "https://localhost:8080/",
          "height": 166
        },
        "id": "1eFBpCYlXpnk",
        "outputId": "0c8e77e0-5b02-4a1e-cb27-992ccb01fc99"
      },
      "execution_count": null,
      "outputs": [
        {
          "output_type": "error",
          "ename": "NameError",
          "evalue": "ignored",
          "traceback": [
            "\u001b[0;31m---------------------------------------------------------------------------\u001b[0m",
            "\u001b[0;31mNameError\u001b[0m                                 Traceback (most recent call last)",
            "\u001b[0;32m<ipython-input-6-0b69792181a0>\u001b[0m in \u001b[0;36m<module>\u001b[0;34m()\u001b[0m\n\u001b[0;32m----> 1\u001b[0;31m \u001b[0;36m3\u001b[0m\u001b[0;34m*\u001b[0m\u001b[0mbien_chua_khai_bao\u001b[0m\u001b[0;34m/\u001b[0m\u001b[0;36m4\u001b[0m\u001b[0;34m\u001b[0m\u001b[0;34m\u001b[0m\u001b[0m\n\u001b[0m",
            "\u001b[0;31mNameError\u001b[0m: name 'bien_chua_khai_bao' is not defined"
          ]
        }
      ]
    },
    {
      "cell_type": "code",
      "source": [
        "'ba'+7"
      ],
      "metadata": {
        "colab": {
          "base_uri": "https://localhost:8080/",
          "height": 166
        },
        "id": "m6LPkeUsaZn6",
        "outputId": "05390fd7-9d68-4174-ab99-0414f203dec1"
      },
      "execution_count": null,
      "outputs": [
        {
          "output_type": "error",
          "ename": "TypeError",
          "evalue": "ignored",
          "traceback": [
            "\u001b[0;31m---------------------------------------------------------------------------\u001b[0m",
            "\u001b[0;31mTypeError\u001b[0m                                 Traceback (most recent call last)",
            "\u001b[0;32m<ipython-input-7-c90c3469dd70>\u001b[0m in \u001b[0;36m<module>\u001b[0;34m()\u001b[0m\n\u001b[0;32m----> 1\u001b[0;31m \u001b[0;34m'ba'\u001b[0m\u001b[0;34m+\u001b[0m\u001b[0;36m7\u001b[0m\u001b[0;34m\u001b[0m\u001b[0;34m\u001b[0m\u001b[0m\n\u001b[0m",
            "\u001b[0;31mTypeError\u001b[0m: can only concatenate str (not \"int\") to str"
          ]
        }
      ]
    },
    {
      "cell_type": "code",
      "source": [
        "10*(1/0)"
      ],
      "metadata": {
        "id": "Dkofl1j1acsn"
      },
      "execution_count": null,
      "outputs": []
    },
    {
      "cell_type": "code",
      "source": [
        "'ba'+(1/0)"
      ],
      "metadata": {
        "id": "8E0Rk8bcapCH"
      },
      "execution_count": null,
      "outputs": []
    },
    {
      "cell_type": "code",
      "source": [
        "ba'+7+(1/0)"
      ],
      "metadata": {
        "id": "h-JFfzsXatOW"
      },
      "execution_count": null,
      "outputs": []
    },
    {
      "cell_type": "markdown",
      "source": [
        "Thực hành 3"
      ],
      "metadata": {
        "id": "MzjzodAOHnPv"
      }
    },
    {
      "cell_type": "code",
      "source": [
        "x = int(input(\"Vui long nhap so: \"))"
      ],
      "metadata": {
        "colab": {
          "base_uri": "https://localhost:8080/"
        },
        "id": "jdg8UGjrhxi2",
        "outputId": "05f4be9a-7f51-43d8-df66-e2ffbade4465"
      },
      "execution_count": null,
      "outputs": [
        {
          "name": "stdout",
          "output_type": "stream",
          "text": [
            "Vui long nhap so: 1\n"
          ]
        }
      ]
    },
    {
      "cell_type": "code",
      "source": [
        "while True:\n",
        "    try:\n",
        "      x = int(input(\"Vui long nhap so: \"))\n",
        "      break\n",
        "    except:\n",
        "      print(\"Vui long nhap so. Khong nhap chu!\")"
      ],
      "metadata": {
        "colab": {
          "base_uri": "https://localhost:8080/"
        },
        "id": "Q1IwIrakh1Ry",
        "outputId": "23505485-8fe2-4799-c0ea-c895b6a3ad26"
      },
      "execution_count": null,
      "outputs": [
        {
          "name": "stdout",
          "output_type": "stream",
          "text": [
            "Vui long nhap so: 10\n"
          ]
        }
      ]
    },
    {
      "cell_type": "markdown",
      "source": [
        "Thực hành 4"
      ],
      "metadata": {
        "id": "nw1jJShRiIwW"
      }
    },
    {
      "cell_type": "code",
      "source": [
        "while True:\n",
        "  try: \n",
        "      x = int(input(\"Vui long nhap so: \"))\n",
        "  except:\n",
        "      print(\"So vua nhap sai\")\n",
        "  else:\n",
        "      print(\"so vua nhap la: \" + str(x))\n",
        "      break\n",
        "  finally:\n",
        "      print(\"Da hoan thanh chuong trinh\")"
      ],
      "metadata": {
        "colab": {
          "base_uri": "https://localhost:8080/"
        },
        "id": "VrgOnmzOiKvB",
        "outputId": "cb7efa70-bd0c-4c45-a187-e72e4792fac3"
      },
      "execution_count": null,
      "outputs": [
        {
          "output_type": "stream",
          "name": "stdout",
          "text": [
            "Vui long nhap so: 18\n",
            "so vua nhap la: 18\n",
            "Da hoan thanh chuong trinh\n"
          ]
        }
      ]
    },
    {
      "cell_type": "markdown",
      "source": [
        "Thực hành 5"
      ],
      "metadata": {
        "id": "N2AImsZVin5C"
      }
    },
    {
      "cell_type": "code",
      "source": [
        "def frange(batdau,ketthuc,buocnhay):\n",
        "  day_ketqua =[]\n",
        "  while batdau < ketthuc:\n",
        "    day_ketqua.append(batdau)\n",
        "    batdau += buocnhay\n",
        "  return day_ketqua\n"
      ],
      "metadata": {
        "id": "5zpgLaKTiqSC"
      },
      "execution_count": null,
      "outputs": []
    },
    {
      "cell_type": "code",
      "source": [
        "tu0den2 = frange(0,2,0.2)\n",
        "tu0den2"
      ],
      "metadata": {
        "colab": {
          "base_uri": "https://localhost:8080/"
        },
        "id": "BN1OM0TVi0zv",
        "outputId": "5e896c66-50ea-4b2a-9c09-eafd0a18b304"
      },
      "execution_count": null,
      "outputs": [
        {
          "output_type": "execute_result",
          "data": {
            "text/plain": [
              "[0,\n",
              " 0.2,\n",
              " 0.4,\n",
              " 0.6000000000000001,\n",
              " 0.8,\n",
              " 1.0,\n",
              " 1.2,\n",
              " 1.4,\n",
              " 1.5999999999999999,\n",
              " 1.7999999999999998,\n",
              " 1.9999999999999998]"
            ]
          },
          "metadata": {},
          "execution_count": 12
        }
      ]
    },
    {
      "cell_type": "markdown",
      "source": [
        "Thực hành 6"
      ],
      "metadata": {
        "id": "BCS_dn8hjSwr"
      }
    },
    {
      "cell_type": "code",
      "source": [
        "from matplotlib import pyplot as plt\n",
        "import math"
      ],
      "metadata": {
        "id": "AMq7luwMjURR"
      },
      "execution_count": null,
      "outputs": []
    },
    {
      "cell_type": "code",
      "source": [
        "def draw_graph(x,y):\n",
        "  plt.plot(x,y)\n",
        "  plt.xlabel('Truc X')\n",
        "  plt.ylabel('Truc Y')\n",
        "  plt.title('Do thi bai toan nem bong')"
      ],
      "metadata": {
        "id": "LRVpCP5PjZVr"
      },
      "execution_count": null,
      "outputs": []
    },
    {
      "cell_type": "code",
      "source": [
        "def frange(start,final,interval):\n",
        "    numbers = []\n",
        "    while start < final:\n",
        "      numbers.append(start)\n",
        "      start += interval\n",
        "    return numbers"
      ],
      "metadata": {
        "id": "4UzfW4ETjcNn"
      },
      "execution_count": null,
      "outputs": []
    },
    {
      "cell_type": "code",
      "source": [
        "def draw_trajectory(u,theta):\n",
        "  #gia toc trong tuong\n",
        "  g = 9.8\n",
        "  #Goc bay \n",
        "  theta = math.radians(theta)\n",
        "  #Thoi gian bay\n",
        "  t_flight = 2*u*math.sin(theta)/g\n",
        "  #Tinh khoang cach thoi gian \n",
        "  intervals = frange(0, t_flight, 0.001)\n",
        "  #Danh sach toa do x, y\n",
        "  x = []\n",
        "  y = []\n",
        "  for t in intervals:\n",
        "   x.append(u*math.cos(theta)*t)\n",
        "   y.append(u*math.sin(theta)*t - 0.5*g*t*t)\n",
        "  draw_graph(x,y)"
      ],
      "metadata": {
        "id": "Fr39jiWejijs"
      },
      "execution_count": null,
      "outputs": []
    },
    {
      "cell_type": "code",
      "source": [
        "if __name__ == \"__main__\":\n",
        "  try:\n",
        "    u = float(input(\"Nhap van toc ban dau (m/s): \"))\n",
        "    theta = float(input(\"Nhap goc bay (degrees): \"))\n",
        "  except ValueError:\n",
        "    print(\"Nhap cac gia tri sai!\")\n",
        "  else:\n",
        "    draw_trajectory (u,theta)\n",
        "    plt.show()\n",
        "  finally:\n",
        "    print(\"Hoan thanh chuong trinh!\")"
      ],
      "metadata": {
        "colab": {
          "base_uri": "https://localhost:8080/",
          "height": 347
        },
        "id": "8E0wQUeylxTf",
        "outputId": "59d630c2-97c8-4fbc-c90b-46880d86c9dc"
      },
      "execution_count": null,
      "outputs": [
        {
          "name": "stdout",
          "output_type": "stream",
          "text": [
            "Nhap van toc ban dau (m/s): 15\n",
            "Nhap goc bay (degrees): 20\n"
          ]
        },
        {
          "output_type": "display_data",
          "data": {
            "image/png": "[encoded data removed]",
            "text/plain": [
              "<Figure size 432x288 with 1 Axes>"
            ]
          },
          "metadata": {
            "needs_background": "light"
          }
        },
        {
          "output_type": "stream",
          "name": "stdout",
          "text": [
            "Hoan thanh chuong trinh!\n"
          ]
        }
      ]
    },
    {
      "cell_type": "markdown",
      "source": [
        "Bài thực hành 7"
      ],
      "metadata": {
        "id": "D3MeWzkZhrQ-"
      }
    },
    {
      "cell_type": "code",
      "source": [
        "if __name__ == \"__main__\":\n",
        "  #Danh sach cac toc do ban dau khac nhau\n",
        "  ds_vantoc = [20,40,60]\n",
        "  goc_bandau = 45 # 45 do\n",
        "  for v in ds_vantoc:\n",
        "    draw_trajectory(v, goc_bandau)\n",
        "\n",
        "\n",
        "  \n",
        "  #Tao chu dan trong do thi\n",
        "  chudan = []\n",
        "  for i in ds_vantoc:\n",
        "    chudan.append(str(i))\n",
        "  #Xem chu dan duoc tao\n",
        "  print(\"Chu dan duoc tao la!\")\n",
        "  print(\"Chu dan\")\n",
        "  #Them chu dan vao do thi\n",
        "  plt.legend(chudan)\n",
        "  #Hien thi do thi\n",
        "  plt.show()"
      ],
      "metadata": {
        "colab": {
          "base_uri": "https://localhost:8080/",
          "height": 330
        },
        "id": "ctm1BnbWi-zo",
        "outputId": "8d6ff921-d6ae-4a64-dfe9-cdda3f909ab1"
      },
      "execution_count": null,
      "outputs": [
        {
          "output_type": "stream",
          "name": "stdout",
          "text": [
            "Chu dan duoc tao la!\n",
            "Chu dan\n"
          ]
        },
        {
          "output_type": "display_data",
          "data": {
            "image/png": "[encoded data removed]",
            "text/plain": [
              "<Figure size 432x288 with 1 Axes>"
            ]
          },
          "metadata": {
            "needs_background": "light"
          }
        }
      ]
    },
    {
      "cell_type": "markdown",
      "source": [
        "Bài thực hành 8"
      ],
      "metadata": {
        "id": "5EbciqLsjsFU"
      }
    },
    {
      "cell_type": "code",
      "source": [
        "from sympy import Symbol, Derivative, sympify, pprint"
      ],
      "metadata": {
        "id": "-2fM_QU5juV_"
      },
      "execution_count": null,
      "outputs": []
    },
    {
      "cell_type": "code",
      "source": [
        "def tinh_daoham(ham_f, bien):\n",
        "  bien = Symbol(bien)\n",
        "  d = Derivative(ham_f, bien).doit()\n",
        "  pprint(d)\n"
      ],
      "metadata": {
        "id": "QwxPRNV9jyIg"
      },
      "execution_count": null,
      "outputs": []
    },
    {
      "cell_type": "code",
      "source": [
        "tinh_daoham('x**3+x**2+x', 'x')"
      ],
      "metadata": {
        "colab": {
          "base_uri": "https://localhost:8080/"
        },
        "id": "CzYLkMZ3j0Bl",
        "outputId": "c57868de-6428-4329-9f9d-049fa5d73aa6"
      },
      "execution_count": null,
      "outputs": [
        {
          "output_type": "stream",
          "name": "stdout",
          "text": [
            "   2          \n",
            "3⋅x  + 2⋅x + 1\n"
          ]
        }
      ]
    },
    {
      "cell_type": "code",
      "source": [
        "tinh_daoham('x**3 + x**2 + r', 'x')"
      ],
      "metadata": {
        "id": "1mcIX4RhkBLf"
      },
      "execution_count": null,
      "outputs": []
    },
    {
      "cell_type": "code",
      "source": [
        "from sympy import Symbol, Derivative, sympify, pprint\n",
        "from sympy.core.sympify import SympifyError"
      ],
      "metadata": {
        "id": "3XFyQWjgkIEs"
      },
      "execution_count": null,
      "outputs": []
    },
    {
      "cell_type": "code",
      "source": [
        "def tinh_daoham(ham_f, bien):\n",
        "  bien = Symbol(bien)\n",
        "  d = Derivative(ham_f, bien).doit()\n",
        "  pprint(d)"
      ],
      "metadata": {
        "id": "6_A5P1lnkJ2M"
      },
      "execution_count": null,
      "outputs": []
    },
    {
      "cell_type": "code",
      "source": [
        "if __name__ == '__main__':\n",
        "  ham_input = input(\"Nhap 1 ham so: \")\n",
        "  bien = input(\"Nhap 1 bien so: \")\n",
        "  try:\n",
        "    ham_sympy = sympify(ham_input)\n",
        "  except SympifyError:\n",
        "    print(\"Ham nhap bi loi!\")\n",
        "  else:\n",
        "    tinh_daoham(ham_input, bien)"
      ],
      "metadata": {
        "id": "iYHYuPskkMSJ"
      },
      "execution_count": null,
      "outputs": []
    },
    {
      "cell_type": "code",
      "source": [
        "if __name__ == '__main__':\n",
        "  ham_input = input(\"Nhap 1 ham so: \")\n",
        "  bien = input(\"Nhap 1 bien so: \")\n",
        "  try:\n",
        "    ham_sympy = sympify(ham_input)\n",
        "  except SympifyError:\n",
        "    print(\"Ham nhap bi loi!\")\n",
        "  else:\n",
        "    tinh_daoham(ham_input, bien)"
      ],
      "metadata": {
        "id": "-jIrXnx1kPtZ"
      },
      "execution_count": null,
      "outputs": []
    },
    {
      "cell_type": "markdown",
      "source": [
        "Bài thực hành 9"
      ],
      "metadata": {
        "id": "NeC9ZK5ikTI2"
      }
    },
    {
      "cell_type": "code",
      "source": [
        "from sympy import Symbol, sin, pi\n",
        "from pylab import plot, show\n",
        "u = Symbol('u')\n",
        "u = 30.0 # van toc 30m/s\n",
        "g = 9.81 # hs gia toc trong truong \n",
        "theta = Symbol('theta')\n",
        "R = (u**2)*sin(2.0*theta)/g\n",
        "R"
      ],
      "metadata": {
        "id": "-NbcHOthkVRr"
      },
      "execution_count": null,
      "outputs": []
    },
    {
      "cell_type": "code",
      "source": [
        "plot(R, (theta, 0, pi/2)) #xet goc ban tu 0 den 90(do), tuong ung tu 0 den pi/2(radian)}"
      ],
      "metadata": {
        "id": "MjtWg3xjkXp-"
      },
      "execution_count": null,
      "outputs": []
    },
    {
      "cell_type": "markdown",
      "source": [
        "Thực hành 10"
      ],
      "metadata": {
        "id": "WoZbdnqBkbVX"
      }
    },
    {
      "cell_type": "code",
      "source": [
        "import math\n",
        "from sympy import Derivative, Symbol, sin\n",
        "def grad_ascent(x0, f1x, x):\n",
        "  epsilon = 1e-6\n",
        "  step_size = 1e-4\n",
        "  x_cu = x0\n",
        "  x_moi = x_cu + step_size * f1x.subs({x : x_cu}).evalf()\n",
        "  while abs(x_cu - x_moi) > epsilon:\n",
        "    x_cu = x_moi\n",
        "    x_moi = x_cu + step_size * f1x.subs({x : x_cu}).evalf()\n",
        "  return x_moi"
      ],
      "metadata": {
        "id": "pGPIPEetk4D5"
      },
      "execution_count": null,
      "outputs": []
    },
    {
      "cell_type": "code",
      "source": [
        "def tim_max_theta(R,theta):\n",
        "  R1theta = Derivative(R,theta).doit()\n",
        "  theta_0 = 1e-3\n",
        "  theta_max = grad_ascent(theta_0,R1theta,theta)\n",
        "  return theta_max"
      ],
      "metadata": {
        "id": "gMC8rJZ-k6r1"
      },
      "execution_count": null,
      "outputs": []
    },
    {
      "cell_type": "code",
      "source": [
        "g = 9.8\n",
        "u = 30\n",
        "theta = Symbol(\"theta\")\n",
        "R = (u**2)*sin(2*theta)/g"
      ],
      "metadata": {
        "id": "j7FAHb9bk8Zm"
      },
      "execution_count": null,
      "outputs": []
    },
    {
      "cell_type": "code",
      "source": [
        "theta_max = tim_max_theta(R,theta)\n",
        "print(\"Goc theta: {0}\".format(math.degrees(theta_max)))"
      ],
      "metadata": {
        "id": "mu2jZ7FUk9-W"
      },
      "execution_count": null,
      "outputs": []
    },
    {
      "cell_type": "code",
      "source": [
        "print(\"Khoang cach vat bay xa: {0}\".format(R.subs({theta:theta_max})))"
      ],
      "metadata": {
        "id": "YFxFHaGalBUR"
      },
      "execution_count": null,
      "outputs": []
    },
    {
      "cell_type": "markdown",
      "source": [
        ""
      ],
      "metadata": {
        "id": "u4Lrbvkxlf5u"
      }
    }
  ]
}